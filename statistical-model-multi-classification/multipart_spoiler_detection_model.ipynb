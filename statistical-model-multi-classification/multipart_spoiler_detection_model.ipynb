{
 "cells": [
  {
   "cell_type": "code",
   "execution_count": 1,
   "id": "62d96f88",
   "metadata": {},
   "outputs": [],
   "source": [
    "import pandas as pd\n",
    "import numpy as np\n",
    "import re\n",
    "import pickle\n",
    "from sklearn.ensemble import GradientBoostingClassifier\n",
    "from sklearn.inspection import permutation_importance"
   ]
  },
  {
   "cell_type": "markdown",
   "id": "27264968",
   "metadata": {},
   "source": [
    "### Functions to derive features"
   ]
  },
  {
   "cell_type": "code",
   "execution_count": 2,
   "id": "21070c66",
   "metadata": {},
   "outputs": [],
   "source": [
    "numbers = ['2','3','4','5','6','7','8','9']\n",
    "number_words = ['two', 'three', 'four', 'five', 'six', 'seven', 'eight', 'nine', 'ten', 'Two', 'Three', 'Four', 'Five', 'Six', 'Seven', 'Eight', 'Nine', 'Ten']\n",
    "currency_words = ['euro', 'yen', 'Euro','Yen']\n",
    "currency_signs = ['€', '¥']\n",
    "\n",
    "def get_number_from_string(inputString):\n",
    "    for char in inputString:\n",
    "        return int(char) if char.isdigit() else 0\n",
    "\n",
    "def has_number_word(inputString):\n",
    "    return any(word in number_words for word in inputString.split())\n",
    "\n",
    "def has_number(inputString):\n",
    "    return any(char.isdigit() for char in inputString)\n",
    "\n",
    "def has_currency_word(inputString):\n",
    "    return any(word in currency_words for word in inputString.split())\n",
    "\n",
    "def has_currency_sign(inputString):\n",
    "    return any(char in currency_signs for char in inputString)\n",
    "\n",
    "def number_of_words(inputString):\n",
    "    return len(inputString.split())\n",
    "\n",
    "def amount_target_paragraphs(targetParagraphs):\n",
    "    return len(targetParagraphs)\n",
    "\n",
    "def amount_lowercase(inputString):\n",
    "    return len(re.findall(r'[a-z]', inputString))\n",
    "\n",
    "def amount_uppercase(inputString):\n",
    "    return len(re.findall(r'[A-Z]', inputString))\n",
    "\n",
    "def amount_letters(inputString):\n",
    "    return amount_lowercase(inputString) + amount_uppercase(inputString)\n",
    "\n",
    "def amount_commas(inputString):\n",
    "    return len(re.findall(r',', inputString))\n",
    "\n",
    "def amount_exclamationmarks(inputString):\n",
    "    return len(re.findall(r'!', inputString))\n",
    "\n",
    "def amount_dots(inputString):\n",
    "    return len(re.findall(r'\\.', inputString))\n",
    "\n",
    "def amount_questionmarks(inputString):\n",
    "    return len(re.findall(r'\\?', inputString))\n",
    "\n",
    "def amount_quotationmarks(inputString):\n",
    "    return len(re.findall(r'\\\"', inputString))\n",
    "\n",
    "def contains_recipe_words(inputString):\n",
    "    return any(word in ['tbsp.', 'Tbsp.', 'tbs.', 'Tbs.', 'oz.', 'Oz.'] for word in inputString.split())\n",
    "\n",
    "def contains_explicit_enumeration(targetParagraphs):\n",
    "    predIsSmallerCounter = 0;\n",
    "    lastNumber = 0;\n",
    "    for targetParagraph in targetParagraphs:\n",
    "        firstCharsOfParagraph = targetParagraph[0:2]\n",
    "        number_exists = has_number(firstCharsOfParagraph)\n",
    "        if number_exists:\n",
    "            currentNumber = get_number_from_string(firstCharsOfParagraph)\n",
    "            if lastNumber < currentNumber: predIsSmallerCounter = predIsSmallerCounter + 1;\n",
    "            lastNumber = currentNumber;\n",
    "    return True if predIsSmallerCounter >= 2 else False"
   ]
  },
  {
   "cell_type": "markdown",
   "id": "c1ede543",
   "metadata": {},
   "source": [
    "### load training data and calculate features"
   ]
  },
  {
   "cell_type": "code",
   "execution_count": 3,
   "id": "9053ccf3",
   "metadata": {},
   "outputs": [],
   "source": [
    "trainingData = pd.read_json('../data/train.jsonl', lines=True)\n",
    "trainingData['tags'] = trainingData['tags'].apply(lambda l: l[0])\n",
    "trainingData['spoilerType'] = trainingData['tags'].apply(lambda r: 'multi' if r == 'multi' else 'non-multi')\n",
    "\n",
    "trainingData['postText'] = trainingData['postText'].apply(lambda p: p[0])\n",
    "trainingData['postTextContainsNumber'] = trainingData['postText'].apply(lambda p: 1 if has_number(p) == True else 0)\n",
    "trainingData['postTextContainsNumberWord'] = trainingData['postText'].apply(lambda p: 1 if has_number_word(p) == True else 0)\n",
    "trainingData['postTextContainsCurrencyWord'] = trainingData['postText'].apply(lambda p: 1 if has_currency_word(p) == True else 0)\n",
    "trainingData['postTextContainsCurrencySign'] = trainingData['postText'].apply(lambda p: 1 if has_currency_sign(p) == True else 0)\n",
    "trainingData['postTextAmountWords'] = trainingData['postText'].apply(lambda p: number_of_words(p))\n",
    "trainingData['postTextAmountLowerCase'] = trainingData['postText'].apply(lambda p: amount_lowercase(p))\n",
    "trainingData['postTextAmountUpperCase'] = trainingData['postText'].apply(lambda p: amount_uppercase(p))\n",
    "trainingData['postTextAmountLetters'] = trainingData['postText'].apply(lambda p: amount_letters(p))\n",
    "trainingData['postTextAmountCommas'] = trainingData['postText'].apply(lambda p: amount_commas(p))\n",
    "trainingData['postTextAmountExclMarks'] = trainingData['postText'].apply(lambda p: amount_exclamationmarks(p))\n",
    "trainingData['postTextAmountDots'] = trainingData['postText'].apply(lambda p: amount_dots(p))\n",
    "trainingData['postTextAmountQuestionMarks'] = trainingData['postText'].apply(lambda p: amount_questionmarks(p))\n",
    "trainingData['postTextAmountQuotationMarks'] = trainingData['postText'].apply(lambda p: amount_quotationmarks(p))\n",
    "\n",
    "trainingData['targetParagraphsConcat'] = trainingData['targetParagraphs'].apply(lambda p: \"\".join(p)) \n",
    "trainingData['targetParagraphsContainNumber'] = trainingData['targetParagraphsConcat'].apply(lambda p: 1 if has_number(p) == True else 0)\n",
    "trainingData['targetParagraphsContainNumberWord'] = trainingData['targetParagraphsConcat'].apply(lambda p: 1 if has_number_word(p) == True else 0)\n",
    "trainingData['targetParagraphsContainCurrencyWord'] = trainingData['targetParagraphsConcat'].apply(lambda p: 1 if has_currency_word(p) == True else 0)\n",
    "trainingData['targetParagraphsContainCurrencySign'] = trainingData['targetParagraphsConcat'].apply(lambda p: 1 if has_currency_sign(p) == True else 0)\n",
    "trainingData['targetParagraphsAmountWords'] = trainingData['targetParagraphsConcat'].apply(lambda p: number_of_words(p))\n",
    "trainingData['targetParagraphsAmountLowerCase'] = trainingData['targetParagraphsConcat'].apply(lambda p: amount_lowercase(p))\n",
    "trainingData['targetParagraphsAmountUpperCase'] = trainingData['targetParagraphsConcat'].apply(lambda p: amount_uppercase(p))\n",
    "trainingData['targetParagraphsAmountLetters'] = trainingData['targetParagraphsConcat'].apply(lambda p: amount_letters(p))\n",
    "trainingData['targetParagraphsAmountCommas'] = trainingData['targetParagraphsConcat'].apply(lambda p: amount_commas(p))\n",
    "trainingData['targetParagraphsAmountExclMarks'] = trainingData['targetParagraphsConcat'].apply(lambda p: amount_commas(p))\n",
    "trainingData['targetParagraphsAmountDots'] = trainingData['targetParagraphsConcat'].apply(lambda p: amount_dots(p))\n",
    "trainingData['targetParagraphsAmountQuestionMarks'] = trainingData['targetParagraphsConcat'].apply(lambda p: amount_questionmarks(p))\n",
    "trainingData['targetParagraphsAmountQuotationMarks'] = trainingData['targetParagraphsConcat'].apply(lambda p: amount_quotationmarks(p))\n",
    "trainingData['targetParagraphsAreExplicitlyEnumerated'] = trainingData['targetParagraphs'].apply(lambda p: 1 if contains_explicit_enumeration(p) == True else 0)\n",
    "trainingData['targetParagraphsAmount'] = trainingData['targetParagraphs'].apply(lambda p: amount_target_paragraphs(p))\n",
    "trainingData['targetParagraphsContainRecipeWord'] = trainingData['targetParagraphsConcat'].apply(lambda p: 1 if contains_recipe_words(p) else 0)"
   ]
  },
  {
   "cell_type": "markdown",
   "id": "25e4072f",
   "metadata": {},
   "source": [
    "### filter dataframe to have necessary features for model training, prepare datasets"
   ]
  },
  {
   "cell_type": "code",
   "execution_count": 4,
   "id": "46e8eb6d",
   "metadata": {},
   "outputs": [],
   "source": [
    "trainingDataFeatureSet = trainingData[['postTextContainsNumber', 'postTextContainsNumberWord', 'postTextContainsCurrencyWord', 'postTextContainsCurrencySign', 'postTextAmountWords', 'postTextAmountLowerCase', 'postTextAmountUpperCase', 'postTextAmountLetters', 'postTextAmountCommas', 'postTextAmountExclMarks', 'postTextAmountDots', 'postTextAmountQuestionMarks', 'postTextAmountQuotationMarks', 'targetParagraphsContainNumber', 'targetParagraphsContainNumberWord', 'targetParagraphsContainCurrencyWord', 'targetParagraphsContainCurrencySign', 'targetParagraphsAmountWords', 'targetParagraphsAmount' ,'targetParagraphsAmountLowerCase', 'targetParagraphsAmountUpperCase', 'targetParagraphsAmountLetters', 'targetParagraphsAmountCommas', 'targetParagraphsAmountExclMarks', 'targetParagraphsAmountDots', 'targetParagraphsAmountQuestionMarks', 'targetParagraphsAmountQuotationMarks', 'targetParagraphsAreExplicitlyEnumerated', 'targetParagraphsContainRecipeWord']]\n",
    "trainingDataTarget = trainingData['spoilerType']\n",
    "clf = GradientBoostingClassifier(n_estimators=350, learning_rate=1.0, max_depth=5, random_state=0)\n",
    "clf.fit(trainingDataFeatureSet, trainingDataTarget)\n",
    "pickle.dump(clf, open(\"multi.model\", 'wb'))"
   ]
  },
  {
   "cell_type": "markdown",
   "id": "d3868a60",
   "metadata": {},
   "source": [
    "### load validation data and calculate feature"
   ]
  },
  {
   "cell_type": "code",
   "execution_count": 5,
   "id": "83dbed02",
   "metadata": {},
   "outputs": [],
   "source": [
    "validationData = pd.read_json('../data/validation.jsonl', lines=True)\n",
    "validationData['tags'] = validationData['tags'].apply(lambda v: v[0])\n",
    "validationData['spoilerType'] = validationData['tags'].apply(lambda r: 'multi' if r == 'multi' else 'non-multi')\n",
    "\n",
    "validationData['postText'] = validationData['postText'].apply(lambda p: p[0])\n",
    "validationData['postTextContainsNumber'] = validationData['postText'].apply(lambda p: 1 if has_number(p) == True else 0)\n",
    "validationData['postTextContainsNumberWord'] = validationData['postText'].apply(lambda p: 1 if has_number_word(p) == True else 0)\n",
    "validationData['postTextContainsCurrencyWord'] = validationData['postText'].apply(lambda p: 1 if has_currency_word(p) == True else 0)\n",
    "validationData['postTextContainsCurrencySign'] = validationData['postText'].apply(lambda p: 1 if has_currency_sign(p) == True else 0)\n",
    "validationData['postTextAmountWords'] = validationData['postText'].apply(lambda p: number_of_words(p))\n",
    "validationData['postTextAmountLowerCase'] = validationData['postText'].apply(lambda p: amount_lowercase(p))\n",
    "validationData['postTextAmountUpperCase'] = validationData['postText'].apply(lambda p: amount_uppercase(p))\n",
    "validationData['postTextAmountLetters'] = validationData['postText'].apply(lambda p: amount_letters(p))\n",
    "validationData['postTextAmountCommas'] = validationData['postText'].apply(lambda p: amount_commas(p))\n",
    "validationData['postTextAmountExclMarks'] = validationData['postText'].apply(lambda p: amount_exclamationmarks(p))\n",
    "validationData['postTextAmountDots'] = validationData['postText'].apply(lambda p: amount_dots(p))\n",
    "validationData['postTextAmountQuestionMarks'] = validationData['postText'].apply(lambda p: amount_questionmarks(p))\n",
    "validationData['postTextAmountQuotationMarks'] = validationData['postText'].apply(lambda p: amount_quotationmarks(p))\n",
    "\n",
    "validationData['targetParagraphsConcat'] = validationData['targetParagraphs'].apply(lambda p: \"\".join(p)) \n",
    "validationData['targetParagraphsContainNumber'] = validationData['targetParagraphsConcat'].apply(lambda p: 1 if has_number(p) == True else 0)\n",
    "validationData['targetParagraphsContainNumberWord'] = validationData['targetParagraphsConcat'].apply(lambda p: 1 if has_number_word(p) == True else 0)\n",
    "validationData['targetParagraphsContainCurrencyWord'] = validationData['targetParagraphsConcat'].apply(lambda p: 1 if has_currency_word(p) == True else 0)\n",
    "validationData['targetParagraphsContainCurrencySign'] = validationData['targetParagraphsConcat'].apply(lambda p: 1 if has_currency_sign(p) == True else 0)\n",
    "validationData['targetParagraphsAmountWords'] = validationData['targetParagraphsConcat'].apply(lambda p: number_of_words(p))\n",
    "validationData['targetParagraphsAmountLowerCase'] = validationData['targetParagraphsConcat'].apply(lambda p: amount_lowercase(p))\n",
    "validationData['targetParagraphsAmountUpperCase'] = validationData['targetParagraphsConcat'].apply(lambda p: amount_uppercase(p))\n",
    "validationData['targetParagraphsAmountLetters'] = validationData['targetParagraphsConcat'].apply(lambda p: amount_letters(p))\n",
    "validationData['targetParagraphsAmountCommas'] = validationData['targetParagraphsConcat'].apply(lambda p: amount_commas(p))\n",
    "validationData['targetParagraphsAmountExclMarks'] = validationData['targetParagraphsConcat'].apply(lambda p: amount_commas(p))\n",
    "validationData['targetParagraphsAmountDots'] = validationData['targetParagraphsConcat'].apply(lambda p: amount_dots(p))\n",
    "validationData['targetParagraphsAmountQuestionMarks'] = validationData['targetParagraphsConcat'].apply(lambda p: amount_questionmarks(p))\n",
    "validationData['targetParagraphsAmountQuotationMarks'] = validationData['targetParagraphsConcat'].apply(lambda p: amount_quotationmarks(p))\n",
    "validationData['targetParagraphsAmount'] = validationData['targetParagraphs'].apply(lambda p: amount_target_paragraphs(p))\n",
    "validationData['targetParagraphsAreExplicitlyEnumerated'] = validationData['targetParagraphs'].apply(lambda p: 1 if contains_explicit_enumeration(p) == True else 0)\n",
    "validationData['targetParagraphsContainRecipeWord'] = validationData['targetParagraphsConcat'].apply(lambda p: 1 if contains_recipe_words(p) else 0)"
   ]
  },
  {
   "cell_type": "markdown",
   "id": "49638c0d",
   "metadata": {},
   "source": [
    "### filter dataframe to have necessary features for model training, prepare datasets"
   ]
  },
  {
   "cell_type": "code",
   "execution_count": 6,
   "id": "f7e34578",
   "metadata": {},
   "outputs": [],
   "source": [
    "validationDataFeatureSet = validationData[['postTextContainsNumber', 'postTextContainsNumberWord', 'postTextContainsCurrencyWord', 'postTextContainsCurrencySign', 'postTextAmountWords', 'postTextAmountLowerCase', 'postTextAmountUpperCase', 'postTextAmountLetters', 'postTextAmountCommas', 'postTextAmountExclMarks', 'postTextAmountDots', 'postTextAmountQuestionMarks', 'postTextAmountQuotationMarks', 'targetParagraphsContainNumber', 'targetParagraphsContainNumberWord', 'targetParagraphsContainCurrencyWord', 'targetParagraphsContainCurrencySign', 'targetParagraphsAmountWords', 'targetParagraphsAmount', 'targetParagraphsAmountLowerCase', 'targetParagraphsAmountUpperCase', 'targetParagraphsAmountLetters', 'targetParagraphsAmountCommas', 'targetParagraphsAmountExclMarks', 'targetParagraphsAmountDots', 'targetParagraphsAmountQuestionMarks', 'targetParagraphsAmountQuotationMarks', 'targetParagraphsAreExplicitlyEnumerated', 'targetParagraphsContainRecipeWord']]\n",
    "predictedSpoilerTypesArray = clf.predict(validationDataFeatureSet)\n",
    "predictedSpoilerTypes = pd.DataFrame({'predicted': predictedSpoilerTypesArray})\n",
    "validationData['predicted'] = predictedSpoilerTypes"
   ]
  },
  {
   "cell_type": "markdown",
   "id": "ba923eaf",
   "metadata": {},
   "source": [
    "### calculate accuracy"
   ]
  },
  {
   "cell_type": "code",
   "execution_count": 7,
   "id": "ece18b91",
   "metadata": {},
   "outputs": [
    {
     "name": "stdout",
     "output_type": "stream",
     "text": [
      "Accuracy:  0.84\n"
     ]
    }
   ],
   "source": [
    "correctly_predicted_rows = np.where(validationData['spoilerType'] == validationData['predicted'])\n",
    "true_positives = len(correctly_predicted_rows[0])\n",
    "acc = true_positives/len(validationData.index)\n",
    "print('Accuracy: ', acc)"
   ]
  },
  {
   "cell_type": "markdown",
   "id": "28dd4e23",
   "metadata": {},
   "source": [
    "### feature importance"
   ]
  },
  {
   "cell_type": "code",
   "execution_count": 8,
   "id": "38806c8c",
   "metadata": {},
   "outputs": [
    {
     "name": "stdout",
     "output_type": "stream",
     "text": [
      "targetParagraphsAmountLowerCase0.160 +/- 0.011\n",
      "targetParagraphsAmountLetters0.079 +/- 0.007\n",
      "targetParagraphsAmountWords0.074 +/- 0.009\n",
      "targetParagraphsAmountDots0.071 +/- 0.009\n",
      "targetParagraphsAmount0.039 +/- 0.008\n",
      "postTextAmountWords0.032 +/- 0.005\n",
      "postTextAmountLetters0.028 +/- 0.005\n",
      "targetParagraphsAmountQuotationMarks0.022 +/- 0.006\n",
      "targetParagraphsAmountCommas0.021 +/- 0.006\n",
      "targetParagraphsAmountUpperCase0.021 +/- 0.007\n",
      "postTextContainsNumber0.019 +/- 0.004\n",
      "postTextAmountUpperCase0.018 +/- 0.006\n",
      "targetParagraphsAmountExclMarks0.018 +/- 0.005\n",
      "targetParagraphsAreExplicitlyEnumerated0.014 +/- 0.003\n",
      "targetParagraphsAmountQuestionMarks0.007 +/- 0.003\n",
      "postTextContainsNumberWord0.006 +/- 0.003\n"
     ]
    }
   ],
   "source": [
    "r = permutation_importance(clf, validationDataFeatureSet, validationData['spoilerType'], n_repeats=30, random_state=0)\n",
    "for i in r.importances_mean.argsort()[::-1]:\n",
    "    if r.importances_mean[i] - 2 * r.importances_std[i] > 0:\n",
    "        print(f\"{validationDataFeatureSet.columns[i]:<8}\"\n",
    "        f\"{r.importances_mean[i]:.3f}\"\n",
    "        f\" +/- {r.importances_std[i]:.3f}\")"
   ]
  }
 ],
 "metadata": {
  "kernelspec": {
   "display_name": "Python 3.10.8 ('venv': venv)",
   "language": "python",
   "name": "python3"
  },
  "language_info": {
   "codemirror_mode": {
    "name": "ipython",
    "version": 3
   },
   "file_extension": ".py",
   "mimetype": "text/x-python",
   "name": "python",
   "nbconvert_exporter": "python",
   "pygments_lexer": "ipython3",
   "version": "3.10.8"
  },
  "vscode": {
   "interpreter": {
    "hash": "6055719cdcdd4cad564baaf8cb67ef20ca943be975d3c715f9bedb72847b9d96"
   }
  }
 },
 "nbformat": 4,
 "nbformat_minor": 5
}
