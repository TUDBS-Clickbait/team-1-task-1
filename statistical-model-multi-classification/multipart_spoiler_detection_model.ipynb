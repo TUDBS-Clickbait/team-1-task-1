{
 "cells": [
  {
   "cell_type": "code",
   "execution_count": 1,
   "id": "62d96f88",
   "metadata": {},
   "outputs": [],
   "source": [
    "import pandas as pd\n",
    "import numpy as np\n",
    "import re\n",
    "import pickle\n",
    "from sklearn.ensemble import GradientBoostingClassifier\n",
    "from sklearn.inspection import permutation_importance\n",
    "import nltk"
   ]
  },
  {
   "cell_type": "markdown",
   "id": "27264968",
   "metadata": {},
   "source": [
    "### Functions to derive features"
   ]
  },
  {
   "cell_type": "code",
   "execution_count": 2,
   "id": "21070c66",
   "metadata": {},
   "outputs": [],
   "source": [
    "numbers = ['2','3','4','5','6','7','8','9']\n",
    "number_words = ['two', 'three', 'four', 'five', 'six', 'seven', 'eight', 'nine', 'ten', 'Two', 'Three', 'Four', 'Five', 'Six', 'Seven', 'Eight', 'Nine', 'Ten']\n",
    "currency_words = ['euro', 'yen', 'Euro','Yen']\n",
    "currency_signs = ['€', '¥']\n",
    "\n",
    "def get_number_from_string(inputString):\n",
    "    for char in inputString:\n",
    "        return int(char) if char.isdigit() else 0\n",
    "\n",
    "def has_number_word(inputString):\n",
    "    return any(word in number_words for word in inputString.split())\n",
    "\n",
    "def has_number(inputString):\n",
    "    return any(char.isdigit() for char in inputString)\n",
    "\n",
    "def has_currency_word(inputString):\n",
    "    return any(word in currency_words for word in inputString.split())\n",
    "\n",
    "def has_currency_sign(inputString):\n",
    "    return any(char in currency_signs for char in inputString)\n",
    "\n",
    "def number_of_words(inputString):\n",
    "    return len(inputString.split())\n",
    "\n",
    "def amount_target_paragraphs(targetParagraphs):\n",
    "    return len(targetParagraphs)\n",
    "\n",
    "def amount_lowercase(inputString):\n",
    "    return len(re.findall(r'[a-z]', inputString))\n",
    "\n",
    "def amount_uppercase(inputString):\n",
    "    return len(re.findall(r'[A-Z]', inputString))\n",
    "\n",
    "def amount_letters(inputString):\n",
    "    return amount_lowercase(inputString) + amount_uppercase(inputString)\n",
    "\n",
    "def amount_commas(inputString):\n",
    "    return len(re.findall(r',', inputString))\n",
    "\n",
    "def amount_exclamationmarks(inputString):\n",
    "    return len(re.findall(r'!', inputString))\n",
    "\n",
    "def amount_dots(inputString):\n",
    "    return len(re.findall(r'\\.', inputString))\n",
    "\n",
    "def amount_questionmarks(inputString):\n",
    "    return len(re.findall(r'\\?', inputString))\n",
    "\n",
    "def amount_quotationmarks(inputString):\n",
    "    return len(re.findall(r'\\\"', inputString))\n",
    "\n",
    "def contains_recipe_words(inputString):\n",
    "    return any(word in ['tbsp.', 'Tbsp.', 'tbs.', 'Tbs.', 'oz.', 'Oz.'] for word in inputString.split())\n",
    "\n",
    "def contains_explicit_enumeration(targetParagraphs):\n",
    "    predIsSmallerCounter = 0;\n",
    "    lastNumber = 0;\n",
    "    for targetParagraph in targetParagraphs:\n",
    "        firstCharsOfParagraph = targetParagraph[0:2]\n",
    "        number_exists = has_number(firstCharsOfParagraph)\n",
    "        if number_exists:\n",
    "            currentNumber = get_number_from_string(firstCharsOfParagraph)\n",
    "            if lastNumber < currentNumber: predIsSmallerCounter = predIsSmallerCounter + 1;\n",
    "            lastNumber = currentNumber;\n",
    "    return True if predIsSmallerCounter >= 2 else False\n",
    "    \n",
    "\n",
    "def number_of_nouns(inputString):\n",
    "    tokens = nltk.word_tokenize(inputString, language='english')\n",
    "    tags = nltk.pos_tag(tokens)\n",
    "    return sum(map(lambda l: l[1] == 'NN' or l[1] == 'NNS', tags))\n",
    "\n",
    "def number_of_adjectives(inputString):\n",
    "    tokens = nltk.word_tokenize(inputString, language='english')\n",
    "    tags = nltk.pos_tag(tokens)\n",
    "    return sum(map(lambda l: l[1] == 'JJ' or l[1] == 'RB', tags))\n",
    "\n",
    "def number_of_verbs(inputString):\n",
    "    tokens = nltk.word_tokenize(inputString, language='english')\n",
    "    tags = nltk.pos_tag(tokens)\n",
    "    return sum(map(lambda l: l[1] == 'VBN' or l[1] == 'VBP', tags))\n",
    "\n",
    "def number_of_articles(inputString):\n",
    "    tokens = nltk.word_tokenize(inputString, language='english')\n",
    "    tags = nltk.pos_tag(tokens)\n",
    "    return sum(map(lambda l: l[1] == 'DT', tags))"
   ]
  },
  {
   "cell_type": "code",
   "execution_count": 3,
   "id": "9b4cfa60",
   "metadata": {},
   "outputs": [],
   "source": [
    "def add_features(dataframe):\n",
    "    dataframe['postText'] = dataframe['postText'].apply(lambda p: p[0])\n",
    "    dataframe['postTextContainsNumber'] = dataframe['postText'].apply(lambda p: 1 if has_number(p) == True else 0)\n",
    "    dataframe['postTextContainsNumberWord'] = dataframe['postText'].apply(lambda p: 1 if has_number_word(p) == True else 0)\n",
    "    dataframe['postTextContainsCurrencyWord'] = dataframe['postText'].apply(lambda p: 1 if has_currency_word(p) == True else 0)\n",
    "    dataframe['postTextContainsCurrencySign'] = dataframe['postText'].apply(lambda p: 1 if has_currency_sign(p) == True else 0)\n",
    "    dataframe['postTextAmountWords'] = dataframe['postText'].apply(lambda p: number_of_words(p))\n",
    "    dataframe['postTextAmountLowerCase'] = dataframe['postText'].apply(lambda p: amount_lowercase(p))\n",
    "    dataframe['postTextAmountUpperCase'] = dataframe['postText'].apply(lambda p: amount_uppercase(p))\n",
    "    dataframe['postTextAmountLetters'] = dataframe['postText'].apply(lambda p: amount_letters(p))\n",
    "    dataframe['postTextAmountCommas'] = dataframe['postText'].apply(lambda p: amount_commas(p))\n",
    "    dataframe['postTextAmountExclMarks'] = dataframe['postText'].apply(lambda p: amount_exclamationmarks(p))\n",
    "    dataframe['postTextAmountDots'] = dataframe['postText'].apply(lambda p: amount_dots(p))\n",
    "    dataframe['postTextAmountQuestionMarks'] = dataframe['postText'].apply(lambda p: amount_questionmarks(p))\n",
    "    dataframe['postTextAmountQuotationMarks'] = dataframe['postText'].apply(lambda p: amount_quotationmarks(p))\n",
    "    dataframe['postTextNouns'] = dataframe['postText'].apply(lambda p: number_of_nouns(p))\n",
    "    dataframe['postTextAdjectives'] = dataframe['postText'].apply(lambda p: number_of_adjectives(p))\n",
    "    dataframe['postTextVerbs'] = dataframe['postText'].apply(lambda p: number_of_verbs(p))\n",
    "    dataframe['postTextArticles'] = dataframe['postText'].apply(lambda p: number_of_articles(p))\n",
    "\n",
    "    dataframe['targetParagraphsConcat'] = dataframe['targetParagraphs'].apply(lambda p: \"\".join(p)) \n",
    "    dataframe['targetParagraphsContainNumber'] = dataframe['targetParagraphsConcat'].apply(lambda p: 1 if has_number(p) == True else 0)\n",
    "    dataframe['targetParagraphsContainNumberWord'] = dataframe['targetParagraphsConcat'].apply(lambda p: 1 if has_number_word(p) == True else 0)\n",
    "    dataframe['targetParagraphsContainCurrencyWord'] = dataframe['targetParagraphsConcat'].apply(lambda p: 1 if has_currency_word(p) == True else 0)\n",
    "    dataframe['targetParagraphsContainCurrencySign'] = dataframe['targetParagraphsConcat'].apply(lambda p: 1 if has_currency_sign(p) == True else 0)\n",
    "    dataframe['targetParagraphsAmountWords'] = dataframe['targetParagraphsConcat'].apply(lambda p: number_of_words(p))\n",
    "    dataframe['targetParagraphsAmountLowerCase'] = dataframe['targetParagraphsConcat'].apply(lambda p: amount_lowercase(p))\n",
    "    dataframe['targetParagraphsAmountUpperCase'] = dataframe['targetParagraphsConcat'].apply(lambda p: amount_uppercase(p))\n",
    "    dataframe['targetParagraphsAmountLetters'] = dataframe['targetParagraphsConcat'].apply(lambda p: amount_letters(p))\n",
    "    dataframe['targetParagraphsAmountCommas'] = dataframe['targetParagraphsConcat'].apply(lambda p: amount_commas(p))\n",
    "    dataframe['targetParagraphsAmountExclMarks'] = dataframe['targetParagraphsConcat'].apply(lambda p: amount_commas(p))\n",
    "    dataframe['targetParagraphsAmountDots'] = dataframe['targetParagraphsConcat'].apply(lambda p: amount_dots(p))\n",
    "    dataframe['targetParagraphsAmountQuestionMarks'] = dataframe['targetParagraphsConcat'].apply(lambda p: amount_questionmarks(p))\n",
    "    dataframe['targetParagraphsAmountQuotationMarks'] = dataframe['targetParagraphsConcat'].apply(lambda p: amount_quotationmarks(p))\n",
    "    dataframe['targetParagraphsAreExplicitlyEnumerated'] = dataframe['targetParagraphs'].apply(lambda p: 1 if contains_explicit_enumeration(p) == True else 0)\n",
    "    dataframe['targetParagraphsAmount'] = dataframe['targetParagraphs'].apply(lambda p: amount_target_paragraphs(p))\n",
    "    dataframe['targetParagraphsContainRecipeWord'] = dataframe['targetParagraphsConcat'].apply(lambda p: 1 if contains_recipe_words(p) else 0)\n",
    "    dataframe['targetParagraphNouns'] = dataframe['targetParagraphsConcat'].apply(lambda p: number_of_nouns(p))\n",
    "    dataframe['targetParagraphsAdjectives'] = dataframe['targetParagraphsConcat'].apply(lambda p: number_of_adjectives(p))\n",
    "    dataframe['targetParagraphsVerbs'] = dataframe['targetParagraphsConcat'].apply(lambda p: number_of_verbs(p))\n",
    "    dataframe['targetParagraphsArticles'] = dataframe['targetParagraphsConcat'].apply(lambda p: number_of_articles(p))\n",
    "    return dataframe"
   ]
  },
  {
   "cell_type": "markdown",
   "id": "c1ede543",
   "metadata": {},
   "source": [
    "### load training data and calculate features"
   ]
  },
  {
   "cell_type": "code",
   "execution_count": 4,
   "id": "9053ccf3",
   "metadata": {},
   "outputs": [],
   "source": [
    "trainingData = pd.read_json('../data/train.jsonl', lines=True)\n",
    "trainingData['tags'] = trainingData['tags'].apply(lambda l: l[0])\n",
    "trainingData['spoilerType'] = trainingData['tags'].apply(lambda r: 'multi' if r == 'multi' else 'non-multi')\n",
    "\n",
    "trainingData['postText'] = trainingData['postText'].apply(lambda p: p[0])\n",
    "trainingData = add_features(trainingData)"
   ]
  },
  {
   "cell_type": "markdown",
   "id": "25e4072f",
   "metadata": {},
   "source": [
    "### filter dataframe to have necessary features for model training, prepare datasets"
   ]
  },
  {
   "cell_type": "code",
   "execution_count": 10,
   "id": "46e8eb6d",
   "metadata": {},
   "outputs": [],
   "source": [
    "trainingDataFeatureSet = trainingData[['postTextContainsNumber', 'postTextContainsNumberWord', 'postTextContainsCurrencyWord', 'postTextContainsCurrencySign', 'postTextAmountWords', 'postTextAmountLowerCase', 'postTextAmountUpperCase', 'postTextAmountLetters', 'postTextAmountCommas', 'postTextAmountExclMarks', 'postTextAmountDots', 'postTextAmountQuestionMarks', 'postTextAmountQuotationMarks', 'targetParagraphsContainNumber', 'targetParagraphsContainNumberWord', 'targetParagraphsContainCurrencyWord', 'targetParagraphsContainCurrencySign', 'targetParagraphsAmountWords', 'targetParagraphsAmount' ,'targetParagraphsAmountLowerCase', 'targetParagraphsAmountUpperCase', 'targetParagraphsAmountLetters', 'targetParagraphsAmountCommas', 'targetParagraphsAmountExclMarks', 'targetParagraphsAmountDots', 'targetParagraphsAmountQuestionMarks', 'targetParagraphsAmountQuotationMarks', 'targetParagraphsAreExplicitlyEnumerated', 'targetParagraphsContainRecipeWord', 'postTextNouns', 'postTextAdjectives', 'postTextVerbs', 'postTextArticles', 'targetParagraphNouns', 'targetParagraphsAdjectives', 'targetParagraphsVerbs', 'targetParagraphsArticles']]\n",
    "trainingDataTarget = trainingData['spoilerType']\n",
    "clf = GradientBoostingClassifier(n_estimators=350, learning_rate=1.0, max_depth=5, random_state=0)\n",
    "clf.fit(trainingDataFeatureSet, trainingDataTarget)\n",
    "pickle.dump(clf, open(\"multi.model\", 'wb'))"
   ]
  },
  {
   "cell_type": "markdown",
   "id": "d3868a60",
   "metadata": {},
   "source": [
    "### load validation data and calculate feature"
   ]
  },
  {
   "cell_type": "code",
   "execution_count": 15,
   "id": "83dbed02",
   "metadata": {},
   "outputs": [
    {
     "name": "stdout",
     "output_type": "stream",
     "text": [
      "      postTextContainsNumber  postTextContainsNumberWord  \\\n",
      "0                          0                           0   \n",
      "1                          0                           0   \n",
      "2                          0                           0   \n",
      "3                          0                           0   \n",
      "4                          0                           0   \n",
      "...                      ...                         ...   \n",
      "3195                       0                           0   \n",
      "3196                       0                           0   \n",
      "3197                       1                           0   \n",
      "3198                       0                           0   \n",
      "3199                       0                           0   \n",
      "\n",
      "      postTextContainsCurrencyWord  postTextContainsCurrencySign  \\\n",
      "0                                0                             0   \n",
      "1                                0                             0   \n",
      "2                                0                             0   \n",
      "3                                0                             0   \n",
      "4                                0                             0   \n",
      "...                            ...                           ...   \n",
      "3195                             0                             0   \n",
      "3196                             0                             0   \n",
      "3197                             0                             0   \n",
      "3198                             0                             0   \n",
      "3199                             0                             0   \n",
      "\n",
      "      postTextAmountWords  postTextAmountLowerCase  postTextAmountUpperCase  \\\n",
      "0                       1                        0                        1   \n",
      "1                       1                        0                        1   \n",
      "2                       1                        0                        1   \n",
      "3                       1                        0                        1   \n",
      "4                       1                        0                        1   \n",
      "...                   ...                      ...                      ...   \n",
      "3195                    1                        0                        1   \n",
      "3196                    1                        0                        1   \n",
      "3197                    1                        0                        0   \n",
      "3198                    1                        0                        1   \n",
      "3199                    1                        0                        1   \n",
      "\n",
      "      postTextAmountLetters  postTextAmountCommas  postTextAmountExclMarks  \\\n",
      "0                         1                     0                        0   \n",
      "1                         1                     0                        0   \n",
      "2                         1                     0                        0   \n",
      "3                         1                     0                        0   \n",
      "4                         1                     0                        0   \n",
      "...                     ...                   ...                      ...   \n",
      "3195                      1                     0                        0   \n",
      "3196                      1                     0                        0   \n",
      "3197                      0                     0                        0   \n",
      "3198                      1                     0                        0   \n",
      "3199                      1                     0                        0   \n",
      "\n",
      "      ...  targetParagraphsAreExplicitlyEnumerated  \\\n",
      "0     ...                                        0   \n",
      "1     ...                                        0   \n",
      "2     ...                                        0   \n",
      "3     ...                                        0   \n",
      "4     ...                                        0   \n",
      "...   ...                                      ...   \n",
      "3195  ...                                        0   \n",
      "3196  ...                                        0   \n",
      "3197  ...                                        1   \n",
      "3198  ...                                        1   \n",
      "3199  ...                                        0   \n",
      "\n",
      "      targetParagraphsContainRecipeWord  postTextNouns  postTextAdjectives  \\\n",
      "0                                     0              1                   0   \n",
      "1                                     0              1                   0   \n",
      "2                                     0              1                   0   \n",
      "3                                     0              1                   0   \n",
      "4                                     0              1                   0   \n",
      "...                                 ...            ...                 ...   \n",
      "3195                                  0              1                   0   \n",
      "3196                                  0              0                   0   \n",
      "3197                                  0              0                   0   \n",
      "3198                                  0              1                   0   \n",
      "3199                                  0              1                   0   \n",
      "\n",
      "      postTextVerbs  postTextArticles  targetParagraphNouns  \\\n",
      "0                 0                 0                    44   \n",
      "1                 0                 0                    86   \n",
      "2                 0                 0                    77   \n",
      "3                 0                 0                   387   \n",
      "4                 0                 0                   107   \n",
      "...             ...               ...                   ...   \n",
      "3195              0                 0                   179   \n",
      "3196              0                 0                    61   \n",
      "3197              0                 0                   179   \n",
      "3198              0                 0                    67   \n",
      "3199              0                 0                    46   \n",
      "\n",
      "      targetParagraphsAdjectives  targetParagraphsVerbs  \\\n",
      "0                             46                     12   \n",
      "1                             33                     15   \n",
      "2                             37                     16   \n",
      "3                            279                    115   \n",
      "4                             60                     20   \n",
      "...                          ...                    ...   \n",
      "3195                          95                     33   \n",
      "3196                          25                      9   \n",
      "3197                          90                     38   \n",
      "3198                          44                     12   \n",
      "3199                          15                      1   \n",
      "\n",
      "      targetParagraphsArticles  \n",
      "0                           19  \n",
      "1                           44  \n",
      "2                           20  \n",
      "3                          148  \n",
      "4                           56  \n",
      "...                        ...  \n",
      "3195                        48  \n",
      "3196                        34  \n",
      "3197                        69  \n",
      "3198                        36  \n",
      "3199                        24  \n",
      "\n",
      "[3200 rows x 37 columns]\n"
     ]
    }
   ],
   "source": [
    "validationData = pd.read_json('../data/validation.jsonl', lines=True)\n",
    "validationData['tags'] = validationData['tags'].apply(lambda v: v[0])\n",
    "validationData['spoilerType'] = validationData['tags'].apply(lambda r: 'multi' if r == 'multi' else 'non-multi')\n",
    "\n",
    "validationData['postText'] = validationData['postText'].apply(lambda p: p[0])\n",
    "validationData = add_features(validationData)"
   ]
  },
  {
   "cell_type": "markdown",
   "id": "49638c0d",
   "metadata": {},
   "source": [
    "### filter dataframe to have necessary features for model training, prepare datasets"
   ]
  },
  {
   "cell_type": "code",
   "execution_count": 12,
   "id": "f7e34578",
   "metadata": {},
   "outputs": [],
   "source": [
    "validationDataFeatureSet = validationData[['postTextContainsNumber', 'postTextContainsNumberWord', 'postTextContainsCurrencyWord', 'postTextContainsCurrencySign', 'postTextAmountWords', 'postTextAmountLowerCase', 'postTextAmountUpperCase', 'postTextAmountLetters', 'postTextAmountCommas', 'postTextAmountExclMarks', 'postTextAmountDots', 'postTextAmountQuestionMarks', 'postTextAmountQuotationMarks', 'targetParagraphsContainNumber', 'targetParagraphsContainNumberWord', 'targetParagraphsContainCurrencyWord', 'targetParagraphsContainCurrencySign', 'targetParagraphsAmountWords', 'targetParagraphsAmount', 'targetParagraphsAmountLowerCase', 'targetParagraphsAmountUpperCase', 'targetParagraphsAmountLetters', 'targetParagraphsAmountCommas', 'targetParagraphsAmountExclMarks', 'targetParagraphsAmountDots', 'targetParagraphsAmountQuestionMarks', 'targetParagraphsAmountQuotationMarks', 'targetParagraphsAreExplicitlyEnumerated', 'targetParagraphsContainRecipeWord', 'postTextNouns', 'postTextAdjectives', 'postTextVerbs', 'postTextArticles', 'targetParagraphNouns', 'targetParagraphsAdjectives', 'targetParagraphsVerbs', 'targetParagraphsArticles']]\n",
    "predictedSpoilerTypesArray = clf.predict(validationDataFeatureSet)\n",
    "predictedSpoilerTypes = pd.DataFrame({'predicted': predictedSpoilerTypesArray})\n",
    "validationData['predicted'] = predictedSpoilerTypes"
   ]
  },
  {
   "cell_type": "markdown",
   "id": "ba923eaf",
   "metadata": {},
   "source": [
    "### calculate accuracy"
   ]
  },
  {
   "cell_type": "code",
   "execution_count": 13,
   "id": "ece18b91",
   "metadata": {},
   "outputs": [
    {
     "name": "stdout",
     "output_type": "stream",
     "text": [
      "Accuracy:  0.83875\n"
     ]
    }
   ],
   "source": [
    "correctly_predicted_rows = np.where(validationData['spoilerType'] == validationData['predicted'])\n",
    "true_positives = len(correctly_predicted_rows[0])\n",
    "acc = true_positives/len(validationData.index)\n",
    "print('Accuracy: ', acc)"
   ]
  },
  {
   "cell_type": "markdown",
   "id": "28dd4e23",
   "metadata": {},
   "source": [
    "### feature importance"
   ]
  },
  {
   "cell_type": "code",
   "execution_count": 14,
   "id": "38806c8c",
   "metadata": {},
   "outputs": [
    {
     "name": "stdout",
     "output_type": "stream",
     "text": [
      "targetParagraphsAmountLowerCase0.215 +/- 0.012\n",
      "targetParagraphsAmountWords0.116 +/- 0.012\n",
      "targetParagraphsAmountLetters0.092 +/- 0.010\n",
      "targetParagraphsAdjectives0.092 +/- 0.011\n",
      "targetParagraphsAmountDots0.052 +/- 0.008\n",
      "targetParagraphsArticles0.046 +/- 0.009\n",
      "targetParagraphNouns0.042 +/- 0.009\n",
      "targetParagraphsVerbs0.041 +/- 0.008\n",
      "postTextContainsNumber0.030 +/- 0.005\n",
      "targetParagraphsAmount0.017 +/- 0.007\n",
      "targetParagraphsAmountExclMarks0.014 +/- 0.005\n",
      "targetParagraphsAmountQuotationMarks0.012 +/- 0.005\n",
      "postTextAmountUpperCase0.003 +/- 0.001\n",
      "postTextAmountQuotationMarks0.003 +/- 0.001\n"
     ]
    }
   ],
   "source": [
    "r = permutation_importance(clf, validationDataFeatureSet, validationData['spoilerType'], n_repeats=30, random_state=0)\n",
    "for i in r.importances_mean.argsort()[::-1]:\n",
    "    if r.importances_mean[i] - 2 * r.importances_std[i] > 0:\n",
    "        print(f\"{validationDataFeatureSet.columns[i]:<8}\"\n",
    "        f\"{r.importances_mean[i]:.3f}\"\n",
    "        f\" +/- {r.importances_std[i]:.3f}\")"
   ]
  }
 ],
 "metadata": {
  "kernelspec": {
   "display_name": "Python 3 (ipykernel)",
   "language": "python",
   "name": "python3"
  },
  "language_info": {
   "codemirror_mode": {
    "name": "ipython",
    "version": 3
   },
   "file_extension": ".py",
   "mimetype": "text/x-python",
   "name": "python",
   "nbconvert_exporter": "python",
   "pygments_lexer": "ipython3",
   "version": "3.10.6"
  },
  "vscode": {
   "interpreter": {
    "hash": "6055719cdcdd4cad564baaf8cb67ef20ca943be975d3c715f9bedb72847b9d96"
   }
  }
 },
 "nbformat": 4,
 "nbformat_minor": 5
}
