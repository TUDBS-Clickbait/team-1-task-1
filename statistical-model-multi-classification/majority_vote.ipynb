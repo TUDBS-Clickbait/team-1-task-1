{
 "cells": [
  {
   "cell_type": "code",
   "execution_count": 2,
   "metadata": {},
   "outputs": [],
   "source": [
    "import pandas as pd\n",
    "import numpy as np\n",
    "import importlib"
   ]
  },
  {
   "cell_type": "code",
   "execution_count": 3,
   "metadata": {},
   "outputs": [],
   "source": [
    "numbers = ['2','3','4','5','6','7','8','9']\n",
    "number_words = ['two', 'three', 'four', 'five', 'six', 'seven', 'eight', 'nine', 'ten', 'Two', 'Three', 'Four', 'Five', 'Six', 'Seven', 'Eight', 'Nine', 'Ten']\n",
    "currency_words = ['euro', 'yen', 'Euro','Yen']\n",
    "currency_signs = ['€', '¥']\n",
    "selection_multi = ['multi']\n",
    "selection_phrase = ['phrase']\n",
    "selection_passage = ['passage']\n",
    "#baseline = importlib.import_module('transformer-baseline-task-1')\n",
    "\n",
    "def has_number_word(inputString):\n",
    "    return any(word in number_words for word in inputString.split())\n",
    "\n",
    "def has_number(inputString):\n",
    "    return any(char.isdigit() for char in inputString)\n",
    "\n",
    "def has_currency_word(inputString):\n",
    "    return any(word in currency_words for word in inputString.split())\n",
    "\n",
    "def has_currency_sign(inputString):\n",
    "    return any(char in currency_signs for char in inputString)\n",
    "\n",
    "df = pd.read_json('../data/validation.jsonl', lines=True)\n",
    "df['postText'] = df['postText'].apply(lambda p: p[0])\n",
    "\n",
    "df['st_contains_currency_sign_or_word'] = df['postText'].apply(lambda p: has_currency_sign(p) or has_currency_word(p))\n",
    "df['st_contains_numbers_or_number_words'] = df['postText'].apply(lambda p: has_number(p) or has_number_word(p))\n",
    "conditions = [\n",
    "    ((df['st_contains_numbers_or_number_words'] == True) & (df['st_contains_currency_sign_or_word'] == False))\n",
    "]\n",
    "df['multiByCondition'] = np.select(conditions,['multi'],'')\n",
    "mask_multi_pred = df.multiByCondition.apply(lambda x: any(item for item in selection_multi if item in x))\n",
    "index_array_conditional = df[mask_multi_pred].index"
   ]
  },
  {
   "cell_type": "code",
   "execution_count": 4,
   "metadata": {},
   "outputs": [],
   "source": [
    "mask_multi_act = df.tags.apply(lambda x: any(item for item in selection_multi if item in x))\n",
    "mask_phrase_act = df.tags.apply(lambda x: any(item for item in selection_phrase if item in x))\n",
    "mask_passage_act = df.tags.apply(lambda x: any(item for item in selection_passage if item in x))\n",
    "df['targetParagraphsAmount'] = df['targetParagraphs'].apply(lambda p: len(p))\n",
    "average_multi_target_amounts = df[mask_multi_act]['targetParagraphsAmount'].mean()\n",
    "average_phrase_target_amounts = df[mask_phrase_act]['targetParagraphsAmount'].mean()\n",
    "average_passage_target_amounts = df[mask_passage_act]['targetParagraphsAmount'].mean()\n",
    "\n",
    "def multiHasLowestDistance(targetParagraphAmount):\n",
    "    distanceMultiMean = abs(targetParagraphAmount - average_multi_target_amounts)\n",
    "    distancePassageMean = abs(targetParagraphAmount - average_passage_target_amounts)\n",
    "    distancePhraseMean = abs(targetParagraphAmount - average_phrase_target_amounts)\n",
    "    distance_list = [distanceMultiMean, distancePassageMean, distancePhraseMean]\n",
    "    distance_list.sort()\n",
    "    if distance_list[0] == distanceMultiMean: return True\n",
    "    return False\n",
    "\n",
    "lowest_dist_to_multi_avg = df['targetParagraphs'].apply(lambda p: multiHasLowestDistance(len(p)))\n",
    "index_array_distance = df[lowest_dist_to_multi_avg].index"
   ]
  },
  {
   "cell_type": "code",
   "execution_count": 6,
   "metadata": {},
   "outputs": [],
   "source": [
    "def contains_recipe_words(inputString):\n",
    "    return any(word in ['tbsp.', 'Tbsp.', 'tbs.', 'Tbs.', 'oz.', 'Oz.'] for word in inputString.split())\n",
    "\n",
    "def get_number(inputString):\n",
    "    for char in inputString:\n",
    "        return int(char) if char.isdigit() else 0\n",
    "\n",
    "def contains_explicit_enumeration(targetParagraphs):\n",
    "    predIsSmallerCounter = 0;\n",
    "    lastNumber = 0;\n",
    "    for targetParagraph in targetParagraphs:\n",
    "        if(contains_recipe_words(targetParagraph)): return False\n",
    "        firstCharsOfParagraph = targetParagraph[0:2]\n",
    "        number_exists = has_number(firstCharsOfParagraph)\n",
    "        if number_exists:\n",
    "            currentNumber = get_number(firstCharsOfParagraph)\n",
    "            if lastNumber < currentNumber: predIsSmallerCounter = predIsSmallerCounter + 1;\n",
    "            lastNumber = currentNumber;\n",
    "    return True if predIsSmallerCounter >= 2 else False\n",
    "\n",
    "df = pd.read_json('../data/validation.jsonl', lines=True)\n",
    "df['containsExplicitEnumeration'] = df.targetParagraphs.apply(lambda x: contains_explicit_enumeration(x))\n",
    "conditions = [\n",
    "    ((df['containsExplicitEnumeration'] == True))\n",
    "]\n",
    "df['spoilerType'] = np.select(conditions,['multi'],'')\n",
    "mask_multi_pred = df.spoilerType.apply(lambda x: any(item for item in selection_multi if item in x))\n",
    "index_array_explicit_enum = df[mask_multi_pred].index"
   ]
  },
  {
   "cell_type": "code",
   "execution_count": 7,
   "metadata": {},
   "outputs": [],
   "source": [
    "indecesMajVoted = []\n",
    "for index in range(df.index.start, df.index.stop):\n",
    "    arrayCount = 0\n",
    "    if index in index_array_conditional: arrayCount = arrayCount + 1\n",
    "    if index in index_array_distance: arrayCount = arrayCount + 1\n",
    "    if index in index_array_explicit_enum: arrayCount = arrayCount + 1\n",
    "    if arrayCount >= 2: indecesMajVoted.append(index)"
   ]
  },
  {
   "cell_type": "code",
   "execution_count": 8,
   "metadata": {},
   "outputs": [
    {
     "name": "stdout",
     "output_type": "stream",
     "text": [
      "TP:  59\n",
      "FP:  35\n",
      "TN:  622\n",
      "FN:  84\n",
      "Accuracy:  0.85125\n"
     ]
    }
   ],
   "source": [
    "df.loc[indecesMajVoted,'spoilerType'] = '[multi]'\n",
    "\n",
    "mask_multi_act = df.tags.apply(lambda x: any(item for item in selection_multi if item in x))\n",
    "mask_multi_not_act = df.tags.apply(lambda x: not any(item for item in selection_multi if item in x))\n",
    "mask_multi_pred = df.spoilerType.apply(lambda x: any(item for item in selection_multi if item in x))\n",
    "mask_multi_not_pred = df.spoilerType.apply(lambda x: not any(item for item in selection_multi if item in x))\n",
    "\n",
    "true_positive = len(df[mask_multi_pred & mask_multi_act].index)\n",
    "false_positive = len(df[mask_multi_pred & mask_multi_not_act].index)\n",
    "true_negative = len(df[mask_multi_not_pred & mask_multi_not_act].index)\n",
    "false_negative = len(df[mask_multi_not_pred & mask_multi_act].index)\n",
    "\n",
    "print('TP: ', true_positive)\n",
    "print('FP: ', false_positive)\n",
    "print('TN: ', true_negative)\n",
    "print('FN: ', false_negative)\n",
    "\n",
    "accuracy = (true_positive + true_negative) / (true_positive + false_positive + true_negative + false_negative)\n",
    "print('Accuracy: ', accuracy)"
   ]
  },
  {
   "cell_type": "code",
   "execution_count": null,
   "metadata": {},
   "outputs": [],
   "source": []
  },
  {
   "cell_type": "code",
   "execution_count": null,
   "metadata": {},
   "outputs": [],
   "source": []
  }
 ],
 "metadata": {
  "kernelspec": {
   "display_name": "Python 3 (ipykernel)",
   "language": "python",
   "name": "python3"
  },
  "language_info": {
   "codemirror_mode": {
    "name": "ipython",
    "version": 3
   },
   "file_extension": ".py",
   "mimetype": "text/x-python",
   "name": "python",
   "nbconvert_exporter": "python",
   "pygments_lexer": "ipython3",
   "version": "3.10.6"
  }
 },
 "nbformat": 4,
 "nbformat_minor": 4
}
