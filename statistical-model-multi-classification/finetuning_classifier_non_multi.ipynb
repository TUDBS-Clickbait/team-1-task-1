{
 "cells": [
  {
   "cell_type": "code",
   "execution_count": null,
   "metadata": {},
   "outputs": [],
   "source": [
    "from transformers import AutoTokenizer\n",
    "import pandas as pd\n",
    "from datasets import Dataset, DatasetDict, ClassLabel, Features, Value\n",
    "import numpy as np\n",
    "from transformers import TrainingArguments, Trainer, DefaultDataCollator, AutoModelForSequenceClassification\n",
    "import torch"
   ]
  },
  {
   "cell_type": "markdown",
   "metadata": {},
   "source": [
    "### prepare datasets"
   ]
  },
  {
   "cell_type": "code",
   "execution_count": null,
   "metadata": {},
   "outputs": [],
   "source": [
    "selectionMulti = ['multi']\n",
    "\n",
    "trainingDatasetFull = pd.read_json('../data/train.jsonl', lines=True)\n",
    "trainingDatasetFull['postText'] = trainingDatasetFull.postText.apply(lambda x: x[0])\n",
    "maskNotMultiActTrain = trainingDatasetFull.tags.apply(lambda x: not any(item for item in selectionMulti if item in x))\n",
    "trainingDatasetNonMulti = trainingDatasetFull[maskNotMultiActTrain]\n",
    "trainingDatasetNonMulti['targetParagraphs'] = trainingDatasetNonMulti.targetParagraphs.apply(lambda p: ''.join(p))\n",
    "trainingDatasetNonMulti['tags'] = trainingDatasetNonMulti.tags.apply(lambda t: 0 if (t == ['phrase']) else 1)"
   ]
  },
  {
   "cell_type": "code",
   "execution_count": null,
   "metadata": {},
   "outputs": [],
   "source": [
    "validationDatasetFull = pd.read_json('../data/validation.jsonl', lines=True)\n",
    "validationDatasetFull['postText'] = validationDatasetFull.postText.apply(lambda x: x[0])\n",
    "maskNotMultiActVal = validationDatasetFull.tags.apply(lambda x: not any(item for item in selectionMulti if item in x))\n",
    "validationDatasetNonMulti = validationDatasetFull[maskNotMultiActVal]\n",
    "validationDatasetNonMulti['targetParagraphs'] = validationDatasetNonMulti.targetParagraphs.apply(lambda p: ''.join(p))\n",
    "validationDatasetNonMulti['tags'] = validationDatasetNonMulti.tags.apply(lambda t: 0 if (t == ['phrase']) else 1)"
   ]
  },
  {
   "cell_type": "markdown",
   "metadata": {},
   "source": [
    "### convert to huggingface dataset"
   ]
  },
  {
   "cell_type": "code",
   "execution_count": null,
   "metadata": {},
   "outputs": [],
   "source": [
    "trainDict = trainingDatasetNonMulti[[\"uuid\", \"postId\", \"postText\", \"postPlatform\", \"targetParagraphs\", \"targetTitle\", \"targetDescription\", \"targetKeywords\", \"tags\"]].to_dict('list')\n",
    "valDict = validationDatasetNonMulti[[\"uuid\", \"postId\", \"postText\", \"postPlatform\", \"targetParagraphs\", \"targetTitle\", \"targetDescription\", \"targetKeywords\", \"tags\"]].to_dict('list')\n",
    "\n",
    "datasetTrain = Dataset.from_dict(trainDict)\n",
    "datasetVal = Dataset.from_dict(valDict)\n",
    "\n",
    "datasetDict = DatasetDict()\n",
    "datasetDict[\"train\"] = datasetTrain\n",
    "datasetDict[\"val\"] = datasetVal"
   ]
  },
  {
   "cell_type": "markdown",
   "metadata": {},
   "source": [
    "### tokenization"
   ]
  },
  {
   "cell_type": "code",
   "execution_count": null,
   "metadata": {},
   "outputs": [],
   "source": [
    "tokenizer = AutoTokenizer.from_pretrained(\"distilbert-base-uncased\")\n",
    "# got inspired here: https://huggingface.co/docs/transformers/tasks/question_answering\n",
    "def preprocess(examples):\n",
    "    postTexts = [p.strip() for p in examples[\"postText\"]]\n",
    "    inputs = tokenizer(\n",
    "        postTexts,\n",
    "        examples[\"postPlatform\"],\n",
    "        examples[\"targetParagraphs\"],\n",
    "        examples[\"targetTitle\"],\n",
    "        padding=\"max_length\",\n",
    "        truncation = \"longest_first\",\n",
    "    )       \n",
    "    return inputs\n",
    "tokenized_dataset = datasetDict.map(preprocess, batched=True, remove_columns=datasetDict[\"train\"].column_names)"
   ]
  },
  {
   "cell_type": "markdown",
   "metadata": {},
   "source": [
    "### load model and move it to GPU"
   ]
  },
  {
   "cell_type": "code",
   "execution_count": null,
   "metadata": {},
   "outputs": [],
   "source": [
    "data_collator = DefaultDataCollator()\n",
    "device = torch.device('cuda' if torch.cuda.is_available() else 'cpu')\n",
    "model = AutoModelForSequenceClassification.from_pretrained(\"roberta-base\", num_labels=2).to(device)"
   ]
  },
  {
   "cell_type": "markdown",
   "metadata": {},
   "source": [
    "### training"
   ]
  },
  {
   "cell_type": "code",
   "execution_count": null,
   "metadata": {},
   "outputs": [],
   "source": [
    "training_args = TrainingArguments(\n",
    "    output_dir=\"finetuned_classification_non_multi\",\n",
    "    evaluation_strategy=\"epoch\",\n",
    ")\n",
    "\n",
    "trainer = Trainer(\n",
    "    model=model,\n",
    "    args=training_args,\n",
    "    train_dataset=tokenized_dataset[\"train\"],\n",
    "    eval_dataset=tokenized_dataset[\"val\"],\n",
    "    tokenizer=tokenizer,\n",
    "    data_collator=data_collator,\n",
    ")\n",
    "\n",
    "trainer.train()\n",
    "torch.save(model, './finetuned_classification_non_multi.pt')"
   ]
  }
 ],
 "metadata": {
  "kernelspec": {
   "display_name": "Python 3 (ipykernel)",
   "language": "python",
   "name": "python3"
  },
  "language_info": {
   "codemirror_mode": {
    "name": "ipython",
    "version": 3
   },
   "file_extension": ".py",
   "mimetype": "text/x-python",
   "name": "python",
   "nbconvert_exporter": "python",
   "pygments_lexer": "ipython3",
   "version": "3.10.6"
  }
 },
 "nbformat": 4,
 "nbformat_minor": 4
}
