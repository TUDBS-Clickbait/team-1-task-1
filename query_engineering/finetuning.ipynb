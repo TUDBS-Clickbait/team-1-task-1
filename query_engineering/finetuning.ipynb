{
 "cells": [
  {
   "cell_type": "code",
   "execution_count": null,
   "metadata": {},
   "outputs": [
    {
     "name": "stderr",
     "output_type": "stream",
     "text": [
      "/usr/lib/python3/dist-packages/requests/__init__.py:89: RequestsDependencyWarning: urllib3 (1.26.9) or chardet (3.0.4) doesn't match a supported version!\n",
      "  warnings.warn(\"urllib3 ({}) or chardet ({}) doesn't match a supported \"\n"
     ]
    },
    {
     "name": "stdout",
     "output_type": "stream",
     "text": [
      "Dataset({\n",
      "    features: ['uuid', 'postId', 'postText', 'postPlatform', 'targetParagraphs', 'targetTitle', 'targetDescription', 'targetKeywords', 'label'],\n",
      "    num_rows: 1000\n",
      "})\n"
     ]
    },
    {
     "name": "stderr",
     "output_type": "stream",
     "text": [
      "<ipython-input-1-2622b8fffdb6>:20: SettingWithCopyWarning: \n",
      "A value is trying to be set on a copy of a slice from a DataFrame.\n",
      "Try using .loc[row_indexer,col_indexer] = value instead\n",
      "\n",
      "See the caveats in the documentation: https://pandas.pydata.org/pandas-docs/stable/user_guide/indexing.html#returning-a-view-versus-a-copy\n",
      "  trainingDatasetFiltered['label'] = trainingDataset.label.apply(lambda t: 0 if (t == ['phrase']) else 1)\n"
     ]
    },
    {
     "data": {
      "application/vnd.jupyter.widget-view+json": {
       "model_id": "bda7fff0f2a34b41b465f2d0b60146f5",
       "version_major": 2,
       "version_minor": 0
      },
      "text/plain": [
       "  0%|          | 0/1 [00:00<?, ?ba/s]"
      ]
     },
     "metadata": {},
     "output_type": "display_data"
    },
    {
     "data": {
      "application/vnd.jupyter.widget-view+json": {
       "model_id": "e05a54e2110b437aaea44535cc33147d",
       "version_major": 2,
       "version_minor": 0
      },
      "text/plain": [
       "  0%|          | 0/1 [00:00<?, ?ba/s]"
      ]
     },
     "metadata": {},
     "output_type": "display_data"
    },
    {
     "name": "stderr",
     "output_type": "stream",
     "text": [
      "Some weights of the model checkpoint at roberta-base were not used when initializing RobertaForSequenceClassification: ['lm_head.bias', 'lm_head.layer_norm.weight', 'lm_head.dense.weight', 'lm_head.dense.bias', 'roberta.pooler.dense.bias', 'lm_head.layer_norm.bias', 'roberta.pooler.dense.weight', 'lm_head.decoder.weight']\n",
      "- This IS expected if you are initializing RobertaForSequenceClassification from the checkpoint of a model trained on another task or with another architecture (e.g. initializing a BertForSequenceClassification model from a BertForPreTraining model).\n",
      "- This IS NOT expected if you are initializing RobertaForSequenceClassification from the checkpoint of a model that you expect to be exactly identical (initializing a BertForSequenceClassification model from a BertForSequenceClassification model).\n",
      "Some weights of RobertaForSequenceClassification were not initialized from the model checkpoint at roberta-base and are newly initialized: ['classifier.dense.bias', 'classifier.out_proj.bias', 'classifier.out_proj.weight', 'classifier.dense.weight']\n",
      "You should probably TRAIN this model on a down-stream task to be able to use it for predictions and inference.\n",
      "The following columns in the training set don't have a corresponding argument in `RobertaForSequenceClassification.forward` and have been ignored: targetKeywords, targetDescription, targetParagraphs, postPlatform, targetTitle, postId, postText, uuid. If targetKeywords, targetDescription, targetParagraphs, postPlatform, targetTitle, postId, postText, uuid are not expected by `RobertaForSequenceClassification.forward`,  you can safely ignore this message.\n",
      "/home/moritz/.local/lib/python3.8/site-packages/transformers/optimization.py:306: FutureWarning: This implementation of AdamW is deprecated and will be removed in a future version. Use the PyTorch implementation torch.optim.AdamW instead, or set `no_deprecation_warning=True` to disable this warning\n",
      "  warnings.warn(\n",
      "***** Running training *****\n",
      "  Num examples = 1000\n",
      "  Num Epochs = 3\n",
      "  Instantaneous batch size per device = 8\n",
      "  Total train batch size (w. parallel, distributed & accumulation) = 8\n",
      "  Gradient Accumulation steps = 1\n",
      "  Total optimization steps = 375\n"
     ]
    }
   ],
   "source": [
    "from transformers import AutoTokenizer\n",
    "import pandas as pd\n",
    "import datasets\n",
    "from datasets import Dataset, DatasetDict, ClassLabel, Features, Value\n",
    "import numpy as np\n",
    "from transformers import TrainingArguments, Trainer\n",
    "from transformers import AutoModelForSequenceClassification\n",
    "\n",
    "tokenizer = AutoTokenizer.from_pretrained(\"roberta-base\")\n",
    "selection_multi = ['multi']\n",
    "\n",
    "trainingDataset = pd.read_json('./train.jsonl', lines=True)\n",
    "trainingDataset.rename({'tags': 'label'}, axis=1, inplace=True)\n",
    "trainingDataset['postText'] = trainingDataset.postText.apply(lambda x: x[0])\n",
    "trainingDataset['targetParagraphs'] = trainingDataset.targetParagraphs.apply(lambda p: ''.join(p))\n",
    "\n",
    "mask_multi_not_act = trainingDataset.label.apply(lambda x: not any(item for item in selection_multi if item in x))\n",
    "\n",
    "trainingDatasetFiltered = trainingDataset[mask_multi_not_act]\n",
    "trainingDatasetFiltered['label'] = trainingDataset.label.apply(lambda t: 0 if (t == ['phrase']) else 1)\n",
    "features = Features({\"uuid\": Value(\"string\"), \"postId\": Value(\"string\"), \"postText\": Value(\"string\"), \"postPlatform\": Value(\"string\"), \"targetParagraphs\": Value(\"string\"), \"targetTitle\": Value(\"string\"), \"targetDescription\": Value(\"string\"), \"targetKeywords\": Value(\"string\"), \"label\": ClassLabel(num_classes=2, names=[0,1])})\n",
    "\n",
    "relevant_columns = trainingDatasetFiltered[[\"uuid\", \"postId\", \"postText\", \"postPlatform\", \"targetParagraphs\", \"targetTitle\", \"targetDescription\", \"targetKeywords\", \"label\"]]\n",
    "\n",
    "huggingDatasetTrain = Dataset.from_pandas(relevant_columns[:1000], features=features)\n",
    "huggingDatasetTest = Dataset.from_pandas(relevant_columns[1000:2000], features=features)\n",
    "\n",
    "print(huggingDatasetTrain)\n",
    "\n",
    "ds = DatasetDict()\n",
    "ds['train'] = huggingDatasetTrain\n",
    "ds['test'] = huggingDatasetTest\n",
    "\n",
    "\n",
    "def tokenize_function(examples):\n",
    "    return tokenizer(examples['postText'], examples['targetParagraphs'], padding=\"max_length\", return_tensors=\"np\", truncation=True)\n",
    "\n",
    "tokenized_data = ds.map(tokenize_function, batched=True)\n",
    "\n",
    "tokenized_train = tokenized_data['train']\n",
    "tokenized_test = tokenized_data['test']\n",
    "\n",
    "model = AutoModelForSequenceClassification.from_pretrained(\"roberta-base\", num_labels=2)\n",
    "training_args = TrainingArguments(output_dir=\"test_trainer\")\n",
    "\n",
    "training_args = TrainingArguments(output_dir=\"test_trainer\", evaluation_strategy=\"epoch\", remove_unused_columns=True)\n",
    "trainer = Trainer(\n",
    "    model=model,\n",
    "    args=training_args,\n",
    "    train_dataset=tokenized_train,\n",
    "    eval_dataset=tokenized_test,\n",
    ")\n",
    "\n",
    "\n",
    "trainer.train()"
   ]
  },
  {
   "cell_type": "code",
   "execution_count": null,
   "metadata": {},
   "outputs": [],
   "source": []
  }
 ],
 "metadata": {
  "kernelspec": {
   "display_name": "Python 3",
   "language": "python",
   "name": "python3"
  },
  "language_info": {
   "codemirror_mode": {
    "name": "ipython",
    "version": 3
   },
   "file_extension": ".py",
   "mimetype": "text/x-python",
   "name": "python",
   "nbconvert_exporter": "python",
   "pygments_lexer": "ipython3",
   "version": "3.8.10"
  }
 },
 "nbformat": 4,
 "nbformat_minor": 4
}
