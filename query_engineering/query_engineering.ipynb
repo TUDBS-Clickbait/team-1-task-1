{
 "cells": [
  {
   "cell_type": "code",
   "execution_count": 7,
   "metadata": {},
   "outputs": [
    {
     "name": "stdout",
     "output_type": "stream",
     "text": [
      "Accuracy Baseline:  0.5275\n",
      "Accuracy Simplified Title:  0.5275\n"
     ]
    }
   ],
   "source": [
    "import pandas as pd\n",
    "import numpy as np\n",
    "df_bl = pd.read_json('./baseline_results.json', lines=False)\n",
    "df_bl_eq = np.where(df_bl['tags'] == df_bl['predicted'])\n",
    "tp_bl = len(df_bl_eq[0])\n",
    "acc_bl = tp_bl/len(df_bl.index)\n",
    "\n",
    "df = pd.read_json('./baseline_simplified_data_results.json', lines=False)\n",
    "df_eq = np.where(df['tags'] == df['predicted'])\n",
    "tp = len(df_eq[0])\n",
    "acc = tp/len(df.index)\n",
    "\n",
    "print('Accuracy Baseline: ', acc_bl)\n",
    "print('Accuracy Simplified Title: ', acc)"
   ]
  },
  {
   "cell_type": "code",
   "execution_count": 12,
   "metadata": {},
   "outputs": [],
   "source": [
    "import importlib\n",
    "\n",
    "numbers = ['2','3','4','5','6','7','8','9']\n",
    "number_words = ['two', 'three', 'four', 'five', 'six', 'seven', 'eight', 'nine', 'ten', 'Two', 'Three', 'Four', 'Five', 'Six', 'Seven', 'Eight', 'Nine', 'Ten']\n",
    "currency_words = ['euro', 'yen', 'Euro','Yen']\n",
    "currency_signs = ['€', '¥']\n",
    "selection_multi = ['multi']\n",
    "selection_phrase = ['phrase']\n",
    "selection_passage = ['passage']\n",
    "#baseline = importlib.import_module('transformer-baseline-task-1')\n",
    "\n",
    "def has_number_word(inputString):\n",
    "    return any(word in number_words for word in inputString.split())\n",
    "\n",
    "def has_number(inputString):\n",
    "    return any(char.isdigit() for char in inputString)\n",
    "\n",
    "def has_currency_word(inputString):\n",
    "    return any(word in currency_words for word in inputString.split())\n",
    "\n",
    "def has_currency_sign(inputString):\n",
    "    return any(char in currency_signs for char in inputString)"
   ]
  },
  {
   "cell_type": "markdown",
   "metadata": {},
   "source": [
    "### baseline analysis"
   ]
  },
  {
   "cell_type": "code",
   "execution_count": 13,
   "metadata": {},
   "outputs": [
    {
     "name": "stdout",
     "output_type": "stream",
     "text": [
      "TP:  56\n",
      "FP:  18\n",
      "TN:  639\n",
      "FN:  87\n",
      "Accuracy:  0.86875\n"
     ]
    }
   ],
   "source": [
    "baseline_results = pd.read_json('./baseline_results.json', lines=False)\n",
    "\n",
    "mask_multi_act = baseline_results.tags.apply(lambda x: any(item for item in selection_multi if item in x))\n",
    "mask_multi_not_act = baseline_results.tags.apply(lambda x: not any(item for item in selection_multi if item in x))\n",
    "mask_multi_pred = baseline_results.predicted.apply(lambda x: any(item for item in selection_multi if item in x))\n",
    "mask_multi_not_pred = baseline_results.predicted.apply(lambda x: not any(item for item in selection_multi if item in x))\n",
    "\n",
    "true_positive = len(baseline_results[mask_multi_pred & mask_multi_act].index)\n",
    "false_positive = len(baseline_results[mask_multi_pred & mask_multi_not_act].index)\n",
    "true_negative = len(baseline_results[mask_multi_not_pred & mask_multi_not_act].index)\n",
    "false_negative = len(baseline_results[mask_multi_not_pred & mask_multi_act].index)\n",
    "\n",
    "print('TP: ', true_positive)\n",
    "print('FP: ', false_positive)\n",
    "print('TN: ', true_negative)\n",
    "print('FN: ', false_negative)\n",
    "\n",
    "accuracy = (true_positive + true_negative) / (true_positive + false_positive + true_negative + false_negative)\n",
    "print('Accuracy: ', accuracy)\n"
   ]
  },
  {
   "cell_type": "markdown",
   "metadata": {},
   "source": [
    "### multi predicted by numbers contained in post text analysis"
   ]
  },
  {
   "cell_type": "code",
   "execution_count": 14,
   "metadata": {},
   "outputs": [
    {
     "name": "stdout",
     "output_type": "stream",
     "text": [
      "TP:  82\n",
      "FP:  87\n",
      "TN:  570\n",
      "FN:  61\n",
      "Accuracy:  0.815\n"
     ]
    }
   ],
   "source": [
    "results = pd.read_json('./exported.json', lines=False)\n",
    "\n",
    "mask_multi_act = results.tags.apply(lambda x: any(item for item in selection_multi if item in x))\n",
    "mask_multi_not_act = results.tags.apply(lambda x: not any(item for item in selection_multi if item in x))\n",
    "mask_multi_pred = results.spoilerType_y.apply(lambda x: any(item for item in selection_multi if item in x))\n",
    "mask_multi_not_pred = results.spoilerType_y.apply(lambda x: not any(item for item in selection_multi if item in x))\n",
    "\n",
    "true_positive = len(results[mask_multi_pred & mask_multi_act].index)\n",
    "false_positive = len(results[mask_multi_pred & mask_multi_not_act].index)\n",
    "true_negative = len(results[mask_multi_not_pred & mask_multi_not_act].index)\n",
    "false_negative = len(results[mask_multi_not_pred & mask_multi_act].index)\n",
    "\n",
    "print('TP: ', true_positive)\n",
    "print('FP: ', false_positive)\n",
    "print('TN: ', true_negative)\n",
    "print('FN: ', false_negative)\n",
    "\n",
    "accuracy = (true_positive + true_negative) / (true_positive + false_positive + true_negative + false_negative)\n",
    "print('Accuracy: ', accuracy)"
   ]
  },
  {
   "cell_type": "markdown",
   "metadata": {},
   "source": [
    "### detect multipart spoilers by applying multiple conditions"
   ]
  },
  {
   "cell_type": "code",
   "execution_count": 22,
   "metadata": {},
   "outputs": [],
   "source": [
    "df['st_contains_currency_sign_or_word'] = df['postText'].apply(lambda p: has_currency_sign(p) or has_currency_word(p))\n",
    "df['st_contains_numbers_or_number_words'] = df['postText'].apply(lambda p: has_number(p) or has_number_word(p))\n",
    "\n",
    "conditions = [\n",
    "    ((df['st_contains_numbers_or_number_words'] == True) & (df['st_contains_currency_sign_or_word'] == False))\n",
    "]\n",
    "\n",
    "df['spoilerType'] = np.select(conditions,['multi'],'')\n",
    "mask_multi_pred = df.spoilerType.apply(lambda x: any(item for item in selection_multi if item in x))\n",
    "index_array = df[mask_multi_pred].index\n"
   ]
  },
  {
   "cell_type": "code",
   "execution_count": 23,
   "metadata": {},
   "outputs": [
    {
     "name": "stdout",
     "output_type": "stream",
     "text": [
      "TP:  86\n",
      "FP:  93\n",
      "TN:  564\n",
      "FN:  57\n",
      "Accuracy:  0.8125\n"
     ]
    }
   ],
   "source": [
    "results2 = pd.read_json('./baseline_results.json', lines=False)\n",
    "results2.loc[index_array,'predicted'] = '[multi]'\n",
    "\n",
    "mask_multi_act = results2.tags.apply(lambda x: any(item for item in selection_multi if item in x))\n",
    "mask_multi_not_act = results2.tags.apply(lambda x: not any(item for item in selection_multi if item in x))\n",
    "mask_multi_pred = results2.predicted.apply(lambda x: any(item for item in selection_multi if item in x))\n",
    "mask_multi_not_pred = results2.predicted.apply(lambda x: not any(item for item in selection_multi if item in x))\n",
    "\n",
    "true_positive = len(results2[mask_multi_pred & mask_multi_act].index)\n",
    "false_positive = len(results2[mask_multi_pred & mask_multi_not_act].index)\n",
    "true_negative = len(results2[mask_multi_not_pred & mask_multi_not_act].index)\n",
    "false_negative = len(results2[mask_multi_not_pred & mask_multi_act].index)\n",
    "\n",
    "print('TP: ', true_positive)\n",
    "print('FP: ', false_positive)\n",
    "print('TN: ', true_negative)\n",
    "print('FN: ', false_negative)\n",
    "\n",
    "accuracy = (true_positive + true_negative) / (true_positive + false_positive + true_negative + false_negative)\n",
    "print('Accuracy: ', accuracy)"
   ]
  },
  {
   "cell_type": "markdown",
   "metadata": {},
   "source": [
    "### target paragraph analysis"
   ]
  },
  {
   "cell_type": "code",
   "execution_count": 17,
   "metadata": {
    "scrolled": true
   },
   "outputs": [
    {
     "name": "stdout",
     "output_type": "stream",
     "text": [
      "multi: mean / stdev / median:  23.503496503496503  /  20.191991902339467  /  19.0\n",
      "phrase: mean / stdev / median:  11.292537313432836  /  8.99955610071025  /  9.0\n",
      "passage: mean / stdev / median:  13.869565217391305  /  14.000725586352  /  10.0\n"
     ]
    }
   ],
   "source": [
    "df = pd.read_json('./validation.jsonl', lines=True)\n",
    "mask_multi_act = df.tags.apply(lambda x: any(item for item in selection_multi if item in x))\n",
    "mask_phrase_act = df.tags.apply(lambda x: any(item for item in selection_phrase if item in x))\n",
    "mask_passage_act = df.tags.apply(lambda x: any(item for item in selection_passage if item in x))\n",
    "df['postText'] = df['postText'].apply(lambda p: p[0])\n",
    "df['targetParagraphsAmount'] = df['targetParagraphs'].apply(lambda p: len(p))\n",
    "average_multi_target_amounts = df[mask_multi_act]['targetParagraphsAmount'].mean()\n",
    "average_phrase_target_amounts = df[mask_phrase_act]['targetParagraphsAmount'].mean()\n",
    "average_passage_target_amounts = df[mask_passage_act]['targetParagraphsAmount'].mean()\n",
    "median_multi_target_amounts = df[mask_multi_act]['targetParagraphsAmount'].median()\n",
    "median_phrase_target_amounts = df[mask_phrase_act]['targetParagraphsAmount'].median()\n",
    "median_passage_target_amounts = df[mask_passage_act]['targetParagraphsAmount'].median()\n",
    "stdev_multi_target_amounts = df[mask_multi_act]['targetParagraphsAmount'].std()\n",
    "stdev_phrase_target_amounts = df[mask_phrase_act]['targetParagraphsAmount'].std()\n",
    "stdev_passage_target_amounts = df[mask_passage_act]['targetParagraphsAmount'].std()\n",
    "\n",
    "\n",
    "print('multi: mean / stdev / median: ', average_multi_target_amounts, ' / ', stdev_multi_target_amounts, ' / ', median_multi_target_amounts)\n",
    "print('phrase: mean / stdev / median: ', average_phrase_target_amounts, ' / ', stdev_phrase_target_amounts, ' / ', median_phrase_target_amounts)\n",
    "print('passage: mean / stdev / median: ', average_passage_target_amounts, ' / ', stdev_passage_target_amounts, ' / ', median_passage_target_amounts)"
   ]
  },
  {
   "cell_type": "code",
   "execution_count": 19,
   "metadata": {},
   "outputs": [
    {
     "name": "stdout",
     "output_type": "stream",
     "text": [
      "TP:  68\n",
      "FP:  24\n",
      "TN:  633\n",
      "FN:  75\n",
      "Accuracy:  0.87625\n"
     ]
    }
   ],
   "source": [
    "results3 = pd.read_json('./ap2_exported.json', lines=False)\n",
    "\n",
    "mask_multi_act = results3.tags.apply(lambda x: any(item for item in selection_multi if item in x))\n",
    "mask_multi_not_act = results3.tags.apply(lambda x: not any(item for item in selection_multi if item in x))\n",
    "mask_multi_pred = results3.spoilerType_y.apply(lambda x: any(item for item in selection_multi if item in x))\n",
    "mask_multi_not_pred = results3.spoilerType_y.apply(lambda x: not any(item for item in selection_multi if item in x))\n",
    "\n",
    "true_positive = len(results3[mask_multi_pred & mask_multi_act].index)\n",
    "false_positive = len(results3[mask_multi_pred & mask_multi_not_act].index)\n",
    "true_negative = len(results3[mask_multi_not_pred & mask_multi_not_act].index)\n",
    "false_negative = len(results3[mask_multi_not_pred & mask_multi_act].index)\n",
    "\n",
    "print('TP: ', true_positive)\n",
    "print('FP: ', false_positive)\n",
    "print('TN: ', true_negative)\n",
    "print('FN: ', false_negative)\n",
    "\n",
    "accuracy = (true_positive + true_negative) / (true_positive + false_positive + true_negative + false_negative)\n",
    "print('Accuracy: ', accuracy)"
   ]
  }
 ],
 "metadata": {
  "kernelspec": {
   "display_name": "Python 3",
   "language": "python",
   "name": "python3"
  },
  "language_info": {
   "codemirror_mode": {
    "name": "ipython",
    "version": 3
   },
   "file_extension": ".py",
   "mimetype": "text/x-python",
   "name": "python",
   "nbconvert_exporter": "python",
   "pygments_lexer": "ipython3",
   "version": "3.8.10"
  }
 },
 "nbformat": 4,
 "nbformat_minor": 5
}
