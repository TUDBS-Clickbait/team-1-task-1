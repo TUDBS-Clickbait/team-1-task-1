{
 "cells": [
  {
   "cell_type": "code",
   "execution_count": 1,
   "id": "31017f35",
   "metadata": {},
   "outputs": [],
   "source": [
    "import pandas as pd\n",
    "import numpy as np\n",
    "import re\n",
    "from sklearn.ensemble import GradientBoostingClassifier"
   ]
  },
  {
   "cell_type": "markdown",
   "id": "8299370c",
   "metadata": {},
   "source": [
    "### Functions to derive features"
   ]
  },
  {
   "cell_type": "code",
   "execution_count": 2,
   "id": "f0015a9b",
   "metadata": {},
   "outputs": [],
   "source": [
    "numbers = ['2','3','4','5','6','7','8','9']\n",
    "number_words = ['two', 'three', 'four', 'five', 'six', 'seven', 'eight', 'nine', 'ten', 'Two', 'Three', 'Four', 'Five', 'Six', 'Seven', 'Eight', 'Nine', 'Ten']\n",
    "currency_words = ['euro', 'yen', 'Euro','Yen']\n",
    "currency_signs = ['€', '¥']\n",
    "\n",
    "def get_number_from_string(inputString):\n",
    "    for char in inputString:\n",
    "        return int(char) if char.isdigit() else 0\n",
    "\n",
    "def has_number_word(inputString):\n",
    "    return any(word in number_words for word in inputString.split())\n",
    "\n",
    "def has_number(inputString):\n",
    "    return any(char.isdigit() for char in inputString)\n",
    "\n",
    "def has_currency_word(inputString):\n",
    "    return any(word in currency_words for word in inputString.split())\n",
    "\n",
    "def has_currency_sign(inputString):\n",
    "    return any(char in currency_signs for char in inputString)\n",
    "\n",
    "def number_of_words(inputString):\n",
    "    return len(inputString.split())\n",
    "\n",
    "def amount_lowercase(inputString):\n",
    "    return len(re.findall(r'[a-z]', inputString))\n",
    "\n",
    "def amount_uppercase(inputString):\n",
    "    return len(re.findall(r'[A-Z]', inputString))\n",
    "\n",
    "def amount_letters(inputString):\n",
    "    return amount_lowercase(inputString) + amount_uppercase(inputString)\n",
    "\n",
    "def amount_commas(inputString):\n",
    "    return len(re.findall(r',', inputString))\n",
    "\n",
    "def amount_exclamationmarks(inputString):\n",
    "    return len(re.findall(r'!', inputString))\n",
    "\n",
    "def amount_dots(inputString):\n",
    "    return len(re.findall(r'\\.', inputString))\n",
    "\n",
    "def amount_questionmarks(inputString):\n",
    "    return len(re.findall(r'\\?', inputString))\n",
    "\n",
    "def amount_quotationmarks(inputString):\n",
    "    return len(re.findall(r'\\\"', inputString))\n",
    "\n",
    "def contains_recipe_words(inputString):\n",
    "    return any(word in ['tbsp.', 'Tbsp.', 'tbs.', 'Tbs.', 'oz.', 'Oz.'] for word in inputString.split())\n",
    "\n",
    "def contains_explicit_enumeration(targetParagraphs):\n",
    "    predIsSmallerCounter = 0;\n",
    "    lastNumber = 0;\n",
    "    for targetParagraph in targetParagraphs:\n",
    "        firstCharsOfParagraph = targetParagraph[0:2]\n",
    "        number_exists = has_number(firstCharsOfParagraph)\n",
    "        if number_exists:\n",
    "            currentNumber = get_number_from_string(firstCharsOfParagraph)\n",
    "            if lastNumber < currentNumber: predIsSmallerCounter = predIsSmallerCounter + 1;\n",
    "            lastNumber = currentNumber;\n",
    "    return True if predIsSmallerCounter >= 2 else False"
   ]
  },
  {
   "cell_type": "markdown",
   "id": "959ca563",
   "metadata": {},
   "source": [
    "### load training data and calculate features"
   ]
  },
  {
   "cell_type": "code",
   "execution_count": 3,
   "id": "f32a7522",
   "metadata": {},
   "outputs": [],
   "source": [
    "trainingData = pd.read_json('../data/train.jsonl', lines=True)\n",
    "\n",
    "trainingData['postText'] = trainingData['postText'].apply(lambda p: p[0])\n",
    "trainingData['postTextContainsNumber'] = trainingData['postText'].apply(lambda p: 1 if has_number(p) == True else 0)\n",
    "trainingData['postTextContainsNumberWord'] = trainingData['postText'].apply(lambda p: 1 if has_number_word(p) == True else 0)\n",
    "trainingData['postTextContainsCurrencyWord'] = trainingData['postText'].apply(lambda p: 1 if has_currency_word(p) == True else 0)\n",
    "trainingData['postTextContainsCurrencySign'] = trainingData['postText'].apply(lambda p: 1 if has_currency_sign(p) == True else 0)\n",
    "trainingData['postTextAmountWords'] = trainingData['postText'].apply(lambda p: number_of_words(p))\n",
    "trainingData['postTextAmountLowerCase'] = trainingData['postText'].apply(lambda p: amount_lowercase(p))\n",
    "trainingData['postTextAmountUpperCase'] = trainingData['postText'].apply(lambda p: amount_uppercase(p))\n",
    "trainingData['postTextAmountLetters'] = trainingData['postText'].apply(lambda p: amount_letters(p))\n",
    "trainingData['postTextAmountCommas'] = trainingData['postText'].apply(lambda p: amount_commas(p))\n",
    "trainingData['postTextAmountExclMarks'] = trainingData['postText'].apply(lambda p: amount_exclamationmarks(p))\n",
    "trainingData['postTextAmountDots'] = trainingData['postText'].apply(lambda p: amount_dots(p))\n",
    "trainingData['postTextAmountQuestionMarks'] = trainingData['postText'].apply(lambda p: amount_questionmarks(p))\n",
    "trainingData['postTextAmountQuotationMarks'] = trainingData['postText'].apply(lambda p: amount_quotationmarks(p))\n",
    "\n",
    "trainingData['targetParagraphsConcat'] = trainingData['targetParagraphs'].apply(lambda p: \"\".join(p)) \n",
    "trainingData['targetParagraphsContainNumber'] = trainingData['targetParagraphsConcat'].apply(lambda p: 1 if has_number(p) == True else 0)\n",
    "trainingData['targetParagraphsContainNumberWord'] = trainingData['targetParagraphsConcat'].apply(lambda p: 1 if has_number_word(p) == True else 0)\n",
    "trainingData['targetParagraphsContainCurrencyWord'] = trainingData['targetParagraphsConcat'].apply(lambda p: 1 if has_currency_word(p) == True else 0)\n",
    "trainingData['targetParagraphsContainCurrencySign'] = trainingData['targetParagraphsConcat'].apply(lambda p: 1 if has_currency_sign(p) == True else 0)\n",
    "trainingData['targetParagraphsAmountWords'] = trainingData['targetParagraphsConcat'].apply(lambda p: number_of_words(p))\n",
    "trainingData['targetParagraphsAmountLowerCase'] = trainingData['targetParagraphsConcat'].apply(lambda p: amount_lowercase(p))\n",
    "trainingData['targetParagraphsAmountUpperCase'] = trainingData['targetParagraphsConcat'].apply(lambda p: amount_uppercase(p))\n",
    "trainingData['targetParagraphsAmountLetters'] = trainingData['targetParagraphsConcat'].apply(lambda p: amount_letters(p))\n",
    "trainingData['targetParagraphsAmountCommas'] = trainingData['targetParagraphsConcat'].apply(lambda p: amount_commas(p))\n",
    "trainingData['targetParagraphsAmountExclMarks'] = trainingData['targetParagraphsConcat'].apply(lambda p: amount_commas(p))\n",
    "trainingData['targetParagraphsAmountDots'] = trainingData['targetParagraphsConcat'].apply(lambda p: amount_dots(p))\n",
    "trainingData['targetParagraphsAmountQuestionMarks'] = trainingData['targetParagraphsConcat'].apply(lambda p: amount_questionmarks(p))\n",
    "trainingData['targetParagraphsAmountQuotationMarks'] = trainingData['targetParagraphsConcat'].apply(lambda p: amount_quotationmarks(p))\n",
    "trainingData['targetParagraphsAreExplicitlyEnumerated'] = trainingData['targetParagraphs'].apply(lambda p: 1 if contains_explicit_enumeration(p) == True else 0)\n",
    "trainingData['targetParagraphsContainRecipeWord'] = trainingData['targetParagraphsConcat'].apply(lambda p: 1 if contains_recipe_words(p) else 0)"
   ]
  },
  {
   "cell_type": "markdown",
   "id": "423948b5",
   "metadata": {},
   "source": [
    "### filter dataframe to have necessary features for model training, prepare datasets"
   ]
  },
  {
   "cell_type": "code",
   "execution_count": 4,
   "id": "fda9450d",
   "metadata": {},
   "outputs": [
    {
     "ename": "ValueError",
     "evalue": "You appear to be using a legacy multi-label data representation. Sequence of sequences are no longer supported; use a binary array or sparse matrix instead - the MultiLabelBinarizer transformer can convert to this format.",
     "output_type": "error",
     "traceback": [
      "\u001b[0;31m---------------------------------------------------------------------------\u001b[0m",
      "\u001b[0;31mValueError\u001b[0m                                Traceback (most recent call last)",
      "\u001b[0;32m/tmp/ipykernel_40764/943754457.py\u001b[0m in \u001b[0;36m<module>\u001b[0;34m\u001b[0m\n\u001b[1;32m      2\u001b[0m \u001b[0mtrainingDataTarget\u001b[0m \u001b[0;34m=\u001b[0m \u001b[0mtrainingData\u001b[0m\u001b[0;34m[\u001b[0m\u001b[0;34m'tags'\u001b[0m\u001b[0;34m]\u001b[0m\u001b[0;34m\u001b[0m\u001b[0;34m\u001b[0m\u001b[0m\n\u001b[1;32m      3\u001b[0m \u001b[0mclf\u001b[0m \u001b[0;34m=\u001b[0m \u001b[0mGradientBoostingClassifier\u001b[0m\u001b[0;34m(\u001b[0m\u001b[0mn_estimators\u001b[0m\u001b[0;34m=\u001b[0m\u001b[0;36m100\u001b[0m\u001b[0;34m,\u001b[0m \u001b[0mlearning_rate\u001b[0m\u001b[0;34m=\u001b[0m\u001b[0;36m1.0\u001b[0m\u001b[0;34m,\u001b[0m \u001b[0mmax_depth\u001b[0m\u001b[0;34m=\u001b[0m\u001b[0;36m1\u001b[0m\u001b[0;34m,\u001b[0m \u001b[0mrandom_state\u001b[0m\u001b[0;34m=\u001b[0m\u001b[0;36m0\u001b[0m\u001b[0;34m)\u001b[0m\u001b[0;34m\u001b[0m\u001b[0;34m\u001b[0m\u001b[0m\n\u001b[0;32m----> 4\u001b[0;31m \u001b[0mclf\u001b[0m\u001b[0;34m.\u001b[0m\u001b[0mfit\u001b[0m\u001b[0;34m(\u001b[0m\u001b[0mtrainingDataFeatureSet\u001b[0m\u001b[0;34m,\u001b[0m \u001b[0mtrainingDataTarget\u001b[0m\u001b[0;34m)\u001b[0m\u001b[0;34m\u001b[0m\u001b[0;34m\u001b[0m\u001b[0m\n\u001b[0m",
      "\u001b[0;32m~/.local/lib/python3.10/site-packages/sklearn/ensemble/_gb.py\u001b[0m in \u001b[0;36mfit\u001b[0;34m(self, X, y, sample_weight, monitor)\u001b[0m\n\u001b[1;32m    438\u001b[0m \u001b[0;34m\u001b[0m\u001b[0m\n\u001b[1;32m    439\u001b[0m         \u001b[0;32mif\u001b[0m \u001b[0mis_classifier\u001b[0m\u001b[0;34m(\u001b[0m\u001b[0mself\u001b[0m\u001b[0;34m)\u001b[0m\u001b[0;34m:\u001b[0m\u001b[0;34m\u001b[0m\u001b[0;34m\u001b[0m\u001b[0m\n\u001b[0;32m--> 440\u001b[0;31m             \u001b[0my\u001b[0m \u001b[0;34m=\u001b[0m \u001b[0mself\u001b[0m\u001b[0;34m.\u001b[0m\u001b[0m_validate_y\u001b[0m\u001b[0;34m(\u001b[0m\u001b[0my\u001b[0m\u001b[0;34m,\u001b[0m \u001b[0msample_weight\u001b[0m\u001b[0;34m)\u001b[0m\u001b[0;34m\u001b[0m\u001b[0;34m\u001b[0m\u001b[0m\n\u001b[0m\u001b[1;32m    441\u001b[0m         \u001b[0;32melse\u001b[0m\u001b[0;34m:\u001b[0m\u001b[0;34m\u001b[0m\u001b[0;34m\u001b[0m\u001b[0m\n\u001b[1;32m    442\u001b[0m             \u001b[0my\u001b[0m \u001b[0;34m=\u001b[0m \u001b[0mself\u001b[0m\u001b[0;34m.\u001b[0m\u001b[0m_validate_y\u001b[0m\u001b[0;34m(\u001b[0m\u001b[0my\u001b[0m\u001b[0;34m)\u001b[0m\u001b[0;34m\u001b[0m\u001b[0;34m\u001b[0m\u001b[0m\n",
      "\u001b[0;32m~/.local/lib/python3.10/site-packages/sklearn/ensemble/_gb.py\u001b[0m in \u001b[0;36m_validate_y\u001b[0;34m(self, y, sample_weight)\u001b[0m\n\u001b[1;32m   1226\u001b[0m \u001b[0;34m\u001b[0m\u001b[0m\n\u001b[1;32m   1227\u001b[0m     \u001b[0;32mdef\u001b[0m \u001b[0m_validate_y\u001b[0m\u001b[0;34m(\u001b[0m\u001b[0mself\u001b[0m\u001b[0;34m,\u001b[0m \u001b[0my\u001b[0m\u001b[0;34m,\u001b[0m \u001b[0msample_weight\u001b[0m\u001b[0;34m)\u001b[0m\u001b[0;34m:\u001b[0m\u001b[0;34m\u001b[0m\u001b[0;34m\u001b[0m\u001b[0m\n\u001b[0;32m-> 1228\u001b[0;31m         \u001b[0mcheck_classification_targets\u001b[0m\u001b[0;34m(\u001b[0m\u001b[0my\u001b[0m\u001b[0;34m)\u001b[0m\u001b[0;34m\u001b[0m\u001b[0;34m\u001b[0m\u001b[0m\n\u001b[0m\u001b[1;32m   1229\u001b[0m         \u001b[0mself\u001b[0m\u001b[0;34m.\u001b[0m\u001b[0mclasses_\u001b[0m\u001b[0;34m,\u001b[0m \u001b[0my\u001b[0m \u001b[0;34m=\u001b[0m \u001b[0mnp\u001b[0m\u001b[0;34m.\u001b[0m\u001b[0munique\u001b[0m\u001b[0;34m(\u001b[0m\u001b[0my\u001b[0m\u001b[0;34m,\u001b[0m \u001b[0mreturn_inverse\u001b[0m\u001b[0;34m=\u001b[0m\u001b[0;32mTrue\u001b[0m\u001b[0;34m)\u001b[0m\u001b[0;34m\u001b[0m\u001b[0;34m\u001b[0m\u001b[0m\n\u001b[1;32m   1230\u001b[0m         \u001b[0mn_trim_classes\u001b[0m \u001b[0;34m=\u001b[0m \u001b[0mnp\u001b[0m\u001b[0;34m.\u001b[0m\u001b[0mcount_nonzero\u001b[0m\u001b[0;34m(\u001b[0m\u001b[0mnp\u001b[0m\u001b[0;34m.\u001b[0m\u001b[0mbincount\u001b[0m\u001b[0;34m(\u001b[0m\u001b[0my\u001b[0m\u001b[0;34m,\u001b[0m \u001b[0msample_weight\u001b[0m\u001b[0;34m)\u001b[0m\u001b[0;34m)\u001b[0m\u001b[0;34m\u001b[0m\u001b[0;34m\u001b[0m\u001b[0m\n",
      "\u001b[0;32m~/.local/lib/python3.10/site-packages/sklearn/utils/multiclass.py\u001b[0m in \u001b[0;36mcheck_classification_targets\u001b[0;34m(y)\u001b[0m\n\u001b[1;32m    197\u001b[0m         \u001b[0mTarget\u001b[0m \u001b[0mvalues\u001b[0m\u001b[0;34m.\u001b[0m\u001b[0;34m\u001b[0m\u001b[0;34m\u001b[0m\u001b[0m\n\u001b[1;32m    198\u001b[0m     \"\"\"\n\u001b[0;32m--> 199\u001b[0;31m     \u001b[0my_type\u001b[0m \u001b[0;34m=\u001b[0m \u001b[0mtype_of_target\u001b[0m\u001b[0;34m(\u001b[0m\u001b[0my\u001b[0m\u001b[0;34m,\u001b[0m \u001b[0minput_name\u001b[0m\u001b[0;34m=\u001b[0m\u001b[0;34m\"y\"\u001b[0m\u001b[0;34m)\u001b[0m\u001b[0;34m\u001b[0m\u001b[0;34m\u001b[0m\u001b[0m\n\u001b[0m\u001b[1;32m    200\u001b[0m     if y_type not in [\n\u001b[1;32m    201\u001b[0m         \u001b[0;34m\"binary\"\u001b[0m\u001b[0;34m,\u001b[0m\u001b[0;34m\u001b[0m\u001b[0;34m\u001b[0m\u001b[0m\n",
      "\u001b[0;32m~/.local/lib/python3.10/site-packages/sklearn/utils/multiclass.py\u001b[0m in \u001b[0;36mtype_of_target\u001b[0;34m(y, input_name)\u001b[0m\n\u001b[1;32m    320\u001b[0m             \u001b[0;32mand\u001b[0m \u001b[0;32mnot\u001b[0m \u001b[0misinstance\u001b[0m\u001b[0;34m(\u001b[0m\u001b[0my\u001b[0m\u001b[0;34m[\u001b[0m\u001b[0;36m0\u001b[0m\u001b[0;34m]\u001b[0m\u001b[0;34m,\u001b[0m \u001b[0mstr\u001b[0m\u001b[0;34m)\u001b[0m\u001b[0;34m\u001b[0m\u001b[0;34m\u001b[0m\u001b[0m\n\u001b[1;32m    321\u001b[0m         ):\n\u001b[0;32m--> 322\u001b[0;31m             raise ValueError(\n\u001b[0m\u001b[1;32m    323\u001b[0m                 \u001b[0;34m\"You appear to be using a legacy multi-label data\"\u001b[0m\u001b[0;34m\u001b[0m\u001b[0;34m\u001b[0m\u001b[0m\n\u001b[1;32m    324\u001b[0m                 \u001b[0;34m\" representation. Sequence of sequences are no\"\u001b[0m\u001b[0;34m\u001b[0m\u001b[0;34m\u001b[0m\u001b[0m\n",
      "\u001b[0;31mValueError\u001b[0m: You appear to be using a legacy multi-label data representation. Sequence of sequences are no longer supported; use a binary array or sparse matrix instead - the MultiLabelBinarizer transformer can convert to this format."
     ]
    }
   ],
   "source": [
    "trainingDataFeatureSet = trainingData[['postTextContainsNumber', 'postTextContainsNumberWord', 'postTextContainsCurrencyWord', 'postTextContainsCurrencySign', 'postTextAmountWords', 'postTextAmountLowerCase', 'postTextAmountUpperCase', 'postTextAmountLetters', 'postTextAmountCommas', 'postTextAmountExclMarks', 'postTextAmountDots', 'postTextAmountQuestionMarks', 'postTextAmountQuotationMarks', 'targetParagraphsContainNumber', 'targetParagraphsContainNumberWord', 'targetParagraphsContainCurrencyWord', 'targetParagraphsContainCurrencySign', 'targetParagraphsAmountWords', 'targetParagraphsAmountLowerCase', 'targetParagraphsAmountUpperCase', 'targetParagraphsAmountLetters', 'targetParagraphsAmountCommas', 'targetParagraphsAmountExclMarks', 'targetParagraphsAmountDots', 'targetParagraphsAmountQuestionMarks', 'targetParagraphsAmountQuotationMarks', 'targetParagraphsAreExplicitlyEnumerated', 'targetParagraphsContainRecipeWord']]\n",
    "trainingDataTarget = trainingData['tags']\n",
    "clf = GradientBoostingClassifier(n_estimators=100, learning_rate=1.0, max_depth=1, random_state=0)\n",
    "clf.fit(trainingDataFeatureSet, trainingDataTarget)"
   ]
  },
  {
   "cell_type": "markdown",
   "id": "733f6793",
   "metadata": {},
   "source": [
    "### load validation data and calculate feature"
   ]
  },
  {
   "cell_type": "code",
   "execution_count": null,
   "id": "0c918da9",
   "metadata": {},
   "outputs": [],
   "source": [
    "validationData = pd.read_json('../data/validation.jsonl', lines=True)\n",
    "\n",
    "validationData['postText'] = validationData['postText'].apply(lambda p: p[0])\n",
    "validationData['postTextContainsNumber'] = validationData['postText'].apply(lambda p: 1 if has_number(p) == True else 0)\n",
    "validationData['postTextContainsNumberWord'] = validationData['postText'].apply(lambda p: 1 if has_number_word(p) == True else 0)\n",
    "validationData['postTextContainsCurrencyWord'] = validationData['postText'].apply(lambda p: 1 if has_currency_word(p) == True else 0)\n",
    "validationData['postTextContainsCurrencySign'] = validationData['postText'].apply(lambda p: 1 if has_currency_sign(p) == True else 0)\n",
    "validationData['postTextAmountWords'] = validationData['postText'].apply(lambda p: number_of_words(p))\n",
    "validationData['postTextAmountLowerCase'] = validationData['postText'].apply(lambda p: amount_lowercase(p))\n",
    "validationData['postTextAmountUpperCase'] = validationData['postText'].apply(lambda p: amount_uppercase(p))\n",
    "validationData['postTextAmountLetters'] = validationData['postText'].apply(lambda p: amount_letters(p))\n",
    "validationData['postTextAmountCommas'] = validationData['postText'].apply(lambda p: amount_commas(p))\n",
    "validationData['postTextAmountExclMarks'] = validationData['postText'].apply(lambda p: amount_exclamationmarks(p))\n",
    "validationData['postTextAmountDots'] = validationData['postText'].apply(lambda p: amount_dots(p))\n",
    "validationData['postTextAmountQuestionMarks'] = validationData['postText'].apply(lambda p: amount_questionmarks(p))\n",
    "validationData['postTextAmountQuotationMarks'] = validationData['postText'].apply(lambda p: amount_quotationmarks(p))\n",
    "\n",
    "validationData['targetParagraphsConcat'] = validationData['targetParagraphs'].apply(lambda p: \"\".join(p)) \n",
    "validationData['targetParagraphsContainNumber'] = validationData['targetParagraphsConcat'].apply(lambda p: 1 if has_number(p) == True else 0)\n",
    "validationData['targetParagraphsContainNumberWord'] = validationData['targetParagraphsConcat'].apply(lambda p: 1 if has_number_word(p) == True else 0)\n",
    "validationData['targetParagraphsContainCurrencyWord'] = validationData['targetParagraphsConcat'].apply(lambda p: 1 if has_currency_word(p) == True else 0)\n",
    "validationData['targetParagraphsContainCurrencySign'] = validationData['targetParagraphsConcat'].apply(lambda p: 1 if has_currency_sign(p) == True else 0)\n",
    "validationData['targetParagraphsAmountWords'] = validationData['targetParagraphsConcat'].apply(lambda p: number_of_words(p))\n",
    "validationData['targetParagraphsAmountLowerCase'] = validationData['targetParagraphsConcat'].apply(lambda p: amount_lowercase(p))\n",
    "validationData['targetParagraphsAmountUpperCase'] = validationData['targetParagraphsConcat'].apply(lambda p: amount_uppercase(p))\n",
    "validationData['targetParagraphsAmountLetters'] = validationData['targetParagraphsConcat'].apply(lambda p: amount_letters(p))\n",
    "validationData['targetParagraphsAmountCommas'] = validationData['targetParagraphsConcat'].apply(lambda p: amount_commas(p))\n",
    "validationData['targetParagraphsAmountExclMarks'] = validationData['targetParagraphsConcat'].apply(lambda p: amount_commas(p))\n",
    "validationData['targetParagraphsAmountDots'] = validationData['targetParagraphsConcat'].apply(lambda p: amount_dots(p))\n",
    "validationData['targetParagraphsAmountQuestionMarks'] = validationData['targetParagraphsConcat'].apply(lambda p: amount_questionmarks(p))\n",
    "validationData['targetParagraphsAmountQuotationMarks'] = validationData['targetParagraphsConcat'].apply(lambda p: amount_quotationmarks(p))\n",
    "validationData['targetParagraphsAreExplicitlyEnumerated'] = validationData['targetParagraphs'].apply(lambda p: 1 if contains_explicit_enumeration(p) == True else 0)\n",
    "validationData['targetParagraphsContainRecipeWord'] = validationData['targetParagraphsConcat'].apply(lambda p: 1 if contains_recipe_words(p) else 0)"
   ]
  },
  {
   "cell_type": "markdown",
   "id": "aa983840",
   "metadata": {},
   "source": [
    "### filter dataframe to have necessary features for model training, prepare datasets"
   ]
  },
  {
   "cell_type": "code",
   "execution_count": null,
   "id": "1a9fdbef",
   "metadata": {},
   "outputs": [],
   "source": [
    "validationDataFeatureSet = validationData[['postTextContainsNumber', 'postTextContainsNumberWord', 'postTextContainsCurrencyWord', 'postTextContainsCurrencySign', 'postTextAmountWords', 'postTextAmountLowerCase', 'postTextAmountUpperCase', 'postTextAmountLetters', 'postTextAmountCommas', 'postTextAmountExclMarks', 'postTextAmountDots', 'postTextAmountQuestionMarks', 'postTextAmountQuotationMarks', 'targetParagraphsContainNumber', 'targetParagraphsContainNumberWord', 'targetParagraphsContainCurrencyWord', 'targetParagraphsContainCurrencySign', 'targetParagraphsAmountWords', 'targetParagraphsAmountLowerCase', 'targetParagraphsAmountUpperCase', 'targetParagraphsAmountLetters', 'targetParagraphsAmountCommas', 'targetParagraphsAmountExclMarks', 'targetParagraphsAmountDots', 'targetParagraphsAmountQuestionMarks', 'targetParagraphsAmountQuotationMarks', 'targetParagraphsAreExplicitlyEnumerated', 'targetParagraphsContainRecipeWord']]\n",
    "validationData['tags'] = validationData['tags'].apply(lambda v: v[0])\n",
    "predictedSpoilerTypesArray = clf.predict(validationDataFeatureSet)\n",
    "predictedSpoilerTypes = pd.DataFrame({'predicted': predictedSpoilerTypesArray})\n",
    "validationData['predicted'] = predictedSpoilerTypes"
   ]
  },
  {
   "cell_type": "markdown",
   "id": "68de0210",
   "metadata": {},
   "source": [
    "### calculate accuracy"
   ]
  },
  {
   "cell_type": "code",
   "execution_count": null,
   "id": "25f4f486",
   "metadata": {},
   "outputs": [],
   "source": [
    "correctly_predicted_rows = np.where(validationData['tags'] == validationData['predicted'])\n",
    "true_positives = len(correctly_predicted_rows[0])\n",
    "acc = true_positives/len(validationData.index)\n",
    "print('Accuracy: ', acc)"
   ]
  }
 ],
 "metadata": {
  "kernelspec": {
   "display_name": "Python 3 (ipykernel)",
   "language": "python",
   "name": "python3"
  },
  "language_info": {
   "codemirror_mode": {
    "name": "ipython",
    "version": 3
   },
   "file_extension": ".py",
   "mimetype": "text/x-python",
   "name": "python",
   "nbconvert_exporter": "python",
   "pygments_lexer": "ipython3",
   "version": "3.10.6"
  }
 },
 "nbformat": 4,
 "nbformat_minor": 5
}
