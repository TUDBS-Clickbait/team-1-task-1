{
 "cells": [
  {
   "cell_type": "code",
   "execution_count": 3,
   "id": "20c96887",
   "metadata": {},
   "outputs": [],
   "source": [
    "import pandas as pd"
   ]
  },
  {
   "cell_type": "markdown",
   "id": "09268bc9",
   "metadata": {},
   "source": [
    "### Functions to derive features"
   ]
  },
  {
   "cell_type": "code",
   "execution_count": 13,
   "id": "bf0e4a5f",
   "metadata": {},
   "outputs": [],
   "source": [
    "numbers = ['2','3','4','5','6','7','8','9']\n",
    "number_words = ['two', 'three', 'four', 'five', 'six', 'seven', 'eight', 'nine', 'ten', 'Two', 'Three', 'Four', 'Five', 'Six', 'Seven', 'Eight', 'Nine', 'Ten']\n",
    "currency_words = ['euro', 'yen', 'Euro','Yen']\n",
    "currency_signs = ['€', '¥']\n",
    "\n",
    "def has_number_word(inputString):\n",
    "    return any(word in number_words for word in inputString.split())\n",
    "\n",
    "def has_number(inputString):\n",
    "    return any(char.isdigit() for char in inputString)\n",
    "\n",
    "def has_currency_word(inputString):\n",
    "    return any(word in currency_words for word in inputString.split())\n",
    "\n",
    "def has_currency_sign(inputString):\n",
    "    return any(char in currency_signs for char in inputString)\n",
    "\n",
    "def number_of_words(inputString):\n",
    "    return len(inputString.split())\n",
    "\n",
    "def amount_lowercase(inputString):\n",
    "    return inputString.count(r'[a-z]')\n",
    "\n",
    "def amount_uppercase(inputString):\n",
    "    return inputString.count(r'[A-Z]')\n",
    "\n",
    "def amount_letters(inputString):\n",
    "    return amount_lowercase(inputString) + amount_uppercase(inputString)\n",
    "\n",
    "def amount_commas(inputString):\n",
    "    return inputString.count(r',')\n",
    "\n",
    "def amount_exclamationmarks(inputString):\n",
    "    return inputString.count(r'!')\n",
    "\n",
    "def amount_dots(inputString):\n",
    "    return inputString.count(r'\\.')\n",
    "\n",
    "def amount_questionmarks(inputString):\n",
    "    return inputString.count(r'\\?')\n",
    "\n",
    "def amount_quotationmarks(inputString):\n",
    "    return inputString.count(r'\\\"')\n",
    "\n",
    "def contains_explicit_enumeration(targetParagraphs):\n",
    "    predIsSmallerCounter = 0;\n",
    "    lastNumber = 0;\n",
    "    for targetParagraph in targetParagraphs:\n",
    "        if(contains_recipe_words(targetParagraph)): return False\n",
    "        firstCharsOfParagraph = targetParagraph[0:2]\n",
    "        number_exists = has_number(firstCharsOfParagraph)\n",
    "        if number_exists:\n",
    "            currentNumber = get_number(firstCharsOfParagraph)\n",
    "            if lastNumber < currentNumber: predIsSmallerCounter = predIsSmallerCounter + 1;\n",
    "            lastNumber = currentNumber;\n",
    "    return True if predIsSmallerCounter >= 2 else False"
   ]
  },
  {
   "cell_type": "markdown",
   "id": "29f35d22",
   "metadata": {},
   "source": [
    "### load training data and calculate features"
   ]
  },
  {
   "cell_type": "code",
   "execution_count": 16,
   "id": "09ec5488",
   "metadata": {},
   "outputs": [],
   "source": [
    "trainingData = pd.read_json('../data/train.jsonl', lines=True)\n",
    "\n",
    "trainingData['postText'] = trainingData['postText'].apply(lambda p: p[0])\n",
    "trainingData['postTextContainsNumber'] = trainingData['postText'].apply(lambda p: 0 if has_number(p) == True else 1)\n",
    "trainingData['postTextContainsNumberWord'] = trainingData['postText'].apply(lambda p: 0 if has_number_word(p) == True else 1)\n",
    "trainingData['postTextContainsCurrencyWord'] = trainingData['postText'].apply(lambda p: 0 if has_currency_word(p) == True else 1)\n",
    "trainingData['postTextContainsCurrencySign'] = trainingData['postText'].apply(lambda p: 0 if has_currency_sign(p) == True else 1)\n",
    "trainingData['postTextAmountWords'] = trainingData['postText'].apply(lambda p: number_of_words(p))\n",
    "trainingData['postTextAmountLowerCase'] = trainingData['postText'].apply(lambda p: amount_lowercase(p))\n",
    "trainingData['postTextAmountUpperCase'] = trainingData['postText'].apply(lambda p: amount_uppercase(p))\n",
    "trainingData['postTextAmountLetters'] = trainingData['postText'].apply(lambda p: amount_letters(p))\n",
    "trainingData['postTextAmountCommas'] = trainingData['postText'].apply(lambda p: amount_commas(p))\n",
    "trainingData['postTextAmountExclMarks'] = trainingData['postText'].apply(lambda p: amount_exclamationmarks(p))\n",
    "trainingData['postTextAmountDots'] = trainingData['postText'].apply(lambda p: amount_dots(p))\n",
    "trainingData['postTextAmountQuestionMarks'] = trainingData['postText'].apply(lambda p: amount_questionmarks(p))\n",
    "trainingData['postTextAmountQuotationMarks'] = trainingData['postText'].apply(lambda p: amount_quotationmarks(p))\n",
    "\n",
    "trainingData['targetParagraphsConcat'] = trainingData['targetParagraphs'].apply(lambda p: \"\".join(p)) \n",
    "trainingData['targetParagraphsContainNumber'] = trainingData['targetParagraphsConcat'].apply(lambda p: 0 if has_number(p) == True else 1)\n",
    "trainingData['targetParagraphsContainNumberWord'] = trainingData['targetParagraphsConcat'].apply(lambda p: 0 if has_number_word(p) == True else 1)\n",
    "trainingData['targetParagraphsContainCurrencyWord'] = trainingData['targetParagraphsConcat'].apply(lambda p: 0 if has_currency_word(p) == True else 1)\n",
    "trainingData['targetParagraphsContainCurrencySign'] = trainingData['targetParagraphsConcat'].apply(lambda p: 0 if has_currency_sign(p) == True else 1)\n",
    "trainingData['targetParagraphsAmountWords'] = trainingData['targetParagraphsConcat'].apply(lambda p: number_of_words(p))\n",
    "trainingData['targetParagraphsAmountLowerCase'] = trainingData['targetParagraphsConcat'].apply(lambda p: amount_lowercase(p))\n",
    "trainingData['targetParagraphsAmountUpperCase'] = trainingData['targetParagraphsConcat'].apply(lambda p: amount_uppercase(p))\n",
    "trainingData['targetParagraphsAmountLetters'] = trainingData['targetParagraphsConcat'].apply(lambda p: amount_letters(p))\n",
    "trainingData['targetParagraphsAmountCommas'] = trainingData['targetParagraphsConcat'].apply(lambda p: amount_commas(p))\n",
    "trainingData['targetParagraphsAmountExclMarks'] = trainingData['targetParagraphsConcat'].apply(lambda p: amount_commas(p))\n",
    "trainingData['targetParagraphsAmountDots'] = trainingData['targetParagraphsConcat'].apply(lambda p: amount_dots(p))\n",
    "trainingData['targetParagraphsAmountQuestionMarks'] = trainingData['targetParagraphsConcat'].apply(lambda p: amount_questionmarks(p))\n",
    "trainingData['targetParagraphsAmountQuotationMarks'] = trainingData['targetParagraphsConcat'].apply(lambda p: amount_quotationmarks(p))\n",
    "trainingData['targetParagraphsAreExplicitlyEnumerated'] = trainingData['targetParagraphs'].apply(lambda p: contains_explicit_enumeration(p))"
   ]
  },
  {
   "cell_type": "code",
   "execution_count": null,
   "id": "f3140c79",
   "metadata": {},
   "outputs": [],
   "source": []
  }
 ],
 "metadata": {
  "kernelspec": {
   "display_name": "Python 3 (ipykernel)",
   "language": "python",
   "name": "python3"
  },
  "language_info": {
   "codemirror_mode": {
    "name": "ipython",
    "version": 3
   },
   "file_extension": ".py",
   "mimetype": "text/x-python",
   "name": "python",
   "nbconvert_exporter": "python",
   "pygments_lexer": "ipython3",
   "version": "3.10.6"
  }
 },
 "nbformat": 4,
 "nbformat_minor": 5
}
