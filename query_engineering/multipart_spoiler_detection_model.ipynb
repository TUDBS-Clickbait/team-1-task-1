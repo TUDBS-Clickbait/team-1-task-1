{
 "cells": [
  {
   "cell_type": "code",
   "execution_count": 8,
   "id": "62d96f88",
   "metadata": {},
   "outputs": [],
   "source": [
    "import pandas as pd\n",
    "import numpy as np\n",
    "import re\n",
    "from sklearn.ensemble import GradientBoostingClassifier"
   ]
  },
  {
   "cell_type": "markdown",
   "id": "27264968",
   "metadata": {},
   "source": [
    "### Functions to derive features"
   ]
  },
  {
   "cell_type": "code",
   "execution_count": 9,
   "id": "21070c66",
   "metadata": {},
   "outputs": [],
   "source": [
    "numbers = ['2','3','4','5','6','7','8','9']\n",
    "number_words = ['two', 'three', 'four', 'five', 'six', 'seven', 'eight', 'nine', 'ten', 'Two', 'Three', 'Four', 'Five', 'Six', 'Seven', 'Eight', 'Nine', 'Ten']\n",
    "currency_words = ['euro', 'yen', 'Euro','Yen']\n",
    "currency_signs = ['€', '¥']\n",
    "\n",
    "def get_number_from_string(inputString):\n",
    "    for char in inputString:\n",
    "        return int(char) if char.isdigit() else 0\n",
    "\n",
    "def has_number_word(inputString):\n",
    "    return any(word in number_words for word in inputString.split())\n",
    "\n",
    "def has_number(inputString):\n",
    "    return any(char.isdigit() for char in inputString)\n",
    "\n",
    "def has_currency_word(inputString):\n",
    "    return any(word in currency_words for word in inputString.split())\n",
    "\n",
    "def has_currency_sign(inputString):\n",
    "    return any(char in currency_signs for char in inputString)\n",
    "\n",
    "def number_of_words(inputString):\n",
    "    return len(inputString.split())\n",
    "\n",
    "def amount_lowercase(inputString):\n",
    "    return len(re.findall(r'[a-z]', inputString))\n",
    "\n",
    "def amount_uppercase(inputString):\n",
    "    return len(re.findall(r'[A-Z]', inputString))\n",
    "\n",
    "def amount_letters(inputString):\n",
    "    return amount_lowercase(inputString) + amount_uppercase(inputString)\n",
    "\n",
    "def amount_commas(inputString):\n",
    "    return len(re.findall(r',', inputString))\n",
    "\n",
    "def amount_exclamationmarks(inputString):\n",
    "    return len(re.findall(r'!', inputString))\n",
    "\n",
    "def amount_dots(inputString):\n",
    "    return len(re.findall(r'\\.', inputString))\n",
    "\n",
    "def amount_questionmarks(inputString):\n",
    "    return len(re.findall(r'\\?', inputString))\n",
    "\n",
    "def amount_quotationmarks(inputString):\n",
    "    return len(re.findall(r'\\\"', inputString))\n",
    "\n",
    "def contains_recipe_words(inputString):\n",
    "    return any(word in ['tbsp.', 'Tbsp.', 'tbs.', 'Tbs.', 'oz.', 'Oz.'] for word in inputString.split())\n",
    "\n",
    "def contains_explicit_enumeration(targetParagraphs):\n",
    "    predIsSmallerCounter = 0;\n",
    "    lastNumber = 0;\n",
    "    for targetParagraph in targetParagraphs:\n",
    "        firstCharsOfParagraph = targetParagraph[0:2]\n",
    "        number_exists = has_number(firstCharsOfParagraph)\n",
    "        if number_exists:\n",
    "            currentNumber = get_number_from_string(firstCharsOfParagraph)\n",
    "            if lastNumber < currentNumber: predIsSmallerCounter = predIsSmallerCounter + 1;\n",
    "            lastNumber = currentNumber;\n",
    "    return True if predIsSmallerCounter >= 2 else False"
   ]
  },
  {
   "cell_type": "markdown",
   "id": "c1ede543",
   "metadata": {},
   "source": [
    "### load training data and calculate features"
   ]
  },
  {
   "cell_type": "code",
   "execution_count": 10,
   "id": "9053ccf3",
   "metadata": {},
   "outputs": [],
   "source": [
    "trainingData = pd.read_json('../data/train.jsonl', lines=True)\n",
    "trainingData['tags'] = trainingData['tags'].apply(lambda l: l[0])\n",
    "trainingData['spoilerType'] = trainingData['tags'].apply(lambda r: 'multi' if r == 'multi' else 'non-multi')\n",
    "\n",
    "trainingData['postText'] = trainingData['postText'].apply(lambda p: p[0])\n",
    "trainingData['postTextContainsNumber'] = trainingData['postText'].apply(lambda p: 1 if has_number(p) == True else 0)\n",
    "trainingData['postTextContainsNumberWord'] = trainingData['postText'].apply(lambda p: 1 if has_number_word(p) == True else 0)\n",
    "trainingData['postTextContainsCurrencyWord'] = trainingData['postText'].apply(lambda p: 1 if has_currency_word(p) == True else 0)\n",
    "trainingData['postTextContainsCurrencySign'] = trainingData['postText'].apply(lambda p: 1 if has_currency_sign(p) == True else 0)\n",
    "trainingData['postTextAmountWords'] = trainingData['postText'].apply(lambda p: number_of_words(p))\n",
    "trainingData['postTextAmountLowerCase'] = trainingData['postText'].apply(lambda p: amount_lowercase(p))\n",
    "trainingData['postTextAmountUpperCase'] = trainingData['postText'].apply(lambda p: amount_uppercase(p))\n",
    "trainingData['postTextAmountLetters'] = trainingData['postText'].apply(lambda p: amount_letters(p))\n",
    "trainingData['postTextAmountCommas'] = trainingData['postText'].apply(lambda p: amount_commas(p))\n",
    "trainingData['postTextAmountExclMarks'] = trainingData['postText'].apply(lambda p: amount_exclamationmarks(p))\n",
    "trainingData['postTextAmountDots'] = trainingData['postText'].apply(lambda p: amount_dots(p))\n",
    "trainingData['postTextAmountQuestionMarks'] = trainingData['postText'].apply(lambda p: amount_questionmarks(p))\n",
    "trainingData['postTextAmountQuotationMarks'] = trainingData['postText'].apply(lambda p: amount_quotationmarks(p))\n",
    "\n",
    "trainingData['targetParagraphsConcat'] = trainingData['targetParagraphs'].apply(lambda p: \"\".join(p)) \n",
    "trainingData['targetParagraphsContainNumber'] = trainingData['targetParagraphsConcat'].apply(lambda p: 1 if has_number(p) == True else 0)\n",
    "trainingData['targetParagraphsContainNumberWord'] = trainingData['targetParagraphsConcat'].apply(lambda p: 1 if has_number_word(p) == True else 0)\n",
    "trainingData['targetParagraphsContainCurrencyWord'] = trainingData['targetParagraphsConcat'].apply(lambda p: 1 if has_currency_word(p) == True else 0)\n",
    "trainingData['targetParagraphsContainCurrencySign'] = trainingData['targetParagraphsConcat'].apply(lambda p: 1 if has_currency_sign(p) == True else 0)\n",
    "trainingData['targetParagraphsAmountWords'] = trainingData['targetParagraphsConcat'].apply(lambda p: number_of_words(p))\n",
    "trainingData['targetParagraphsAmountLowerCase'] = trainingData['targetParagraphsConcat'].apply(lambda p: amount_lowercase(p))\n",
    "trainingData['targetParagraphsAmountUpperCase'] = trainingData['targetParagraphsConcat'].apply(lambda p: amount_uppercase(p))\n",
    "trainingData['targetParagraphsAmountLetters'] = trainingData['targetParagraphsConcat'].apply(lambda p: amount_letters(p))\n",
    "trainingData['targetParagraphsAmountCommas'] = trainingData['targetParagraphsConcat'].apply(lambda p: amount_commas(p))\n",
    "trainingData['targetParagraphsAmountExclMarks'] = trainingData['targetParagraphsConcat'].apply(lambda p: amount_commas(p))\n",
    "trainingData['targetParagraphsAmountDots'] = trainingData['targetParagraphsConcat'].apply(lambda p: amount_dots(p))\n",
    "trainingData['targetParagraphsAmountQuestionMarks'] = trainingData['targetParagraphsConcat'].apply(lambda p: amount_questionmarks(p))\n",
    "trainingData['targetParagraphsAmountQuotationMarks'] = trainingData['targetParagraphsConcat'].apply(lambda p: amount_quotationmarks(p))\n",
    "trainingData['targetParagraphsAreExplicitlyEnumerated'] = trainingData['targetParagraphs'].apply(lambda p: 1 if contains_explicit_enumeration(p) == True else 0)\n",
    "trainingData['targetParagraphsContainRecipeWord'] = trainingData['targetParagraphsConcat'].apply(lambda p: 1 if contains_recipe_words(p) else 0)"
   ]
  },
  {
   "cell_type": "markdown",
   "id": "25e4072f",
   "metadata": {},
   "source": [
    "### filter dataframe to have necessary features for model training, prepare datasets"
   ]
  },
  {
   "cell_type": "code",
   "execution_count": 11,
   "id": "46e8eb6d",
   "metadata": {},
   "outputs": [
    {
     "data": {
      "text/html": [
       "<style>#sk-container-id-2 {color: black;background-color: white;}#sk-container-id-2 pre{padding: 0;}#sk-container-id-2 div.sk-toggleable {background-color: white;}#sk-container-id-2 label.sk-toggleable__label {cursor: pointer;display: block;width: 100%;margin-bottom: 0;padding: 0.3em;box-sizing: border-box;text-align: center;}#sk-container-id-2 label.sk-toggleable__label-arrow:before {content: \"▸\";float: left;margin-right: 0.25em;color: #696969;}#sk-container-id-2 label.sk-toggleable__label-arrow:hover:before {color: black;}#sk-container-id-2 div.sk-estimator:hover label.sk-toggleable__label-arrow:before {color: black;}#sk-container-id-2 div.sk-toggleable__content {max-height: 0;max-width: 0;overflow: hidden;text-align: left;background-color: #f0f8ff;}#sk-container-id-2 div.sk-toggleable__content pre {margin: 0.2em;color: black;border-radius: 0.25em;background-color: #f0f8ff;}#sk-container-id-2 input.sk-toggleable__control:checked~div.sk-toggleable__content {max-height: 200px;max-width: 100%;overflow: auto;}#sk-container-id-2 input.sk-toggleable__control:checked~label.sk-toggleable__label-arrow:before {content: \"▾\";}#sk-container-id-2 div.sk-estimator input.sk-toggleable__control:checked~label.sk-toggleable__label {background-color: #d4ebff;}#sk-container-id-2 div.sk-label input.sk-toggleable__control:checked~label.sk-toggleable__label {background-color: #d4ebff;}#sk-container-id-2 input.sk-hidden--visually {border: 0;clip: rect(1px 1px 1px 1px);clip: rect(1px, 1px, 1px, 1px);height: 1px;margin: -1px;overflow: hidden;padding: 0;position: absolute;width: 1px;}#sk-container-id-2 div.sk-estimator {font-family: monospace;background-color: #f0f8ff;border: 1px dotted black;border-radius: 0.25em;box-sizing: border-box;margin-bottom: 0.5em;}#sk-container-id-2 div.sk-estimator:hover {background-color: #d4ebff;}#sk-container-id-2 div.sk-parallel-item::after {content: \"\";width: 100%;border-bottom: 1px solid gray;flex-grow: 1;}#sk-container-id-2 div.sk-label:hover label.sk-toggleable__label {background-color: #d4ebff;}#sk-container-id-2 div.sk-serial::before {content: \"\";position: absolute;border-left: 1px solid gray;box-sizing: border-box;top: 0;bottom: 0;left: 50%;z-index: 0;}#sk-container-id-2 div.sk-serial {display: flex;flex-direction: column;align-items: center;background-color: white;padding-right: 0.2em;padding-left: 0.2em;position: relative;}#sk-container-id-2 div.sk-item {position: relative;z-index: 1;}#sk-container-id-2 div.sk-parallel {display: flex;align-items: stretch;justify-content: center;background-color: white;position: relative;}#sk-container-id-2 div.sk-item::before, #sk-container-id-2 div.sk-parallel-item::before {content: \"\";position: absolute;border-left: 1px solid gray;box-sizing: border-box;top: 0;bottom: 0;left: 50%;z-index: -1;}#sk-container-id-2 div.sk-parallel-item {display: flex;flex-direction: column;z-index: 1;position: relative;background-color: white;}#sk-container-id-2 div.sk-parallel-item:first-child::after {align-self: flex-end;width: 50%;}#sk-container-id-2 div.sk-parallel-item:last-child::after {align-self: flex-start;width: 50%;}#sk-container-id-2 div.sk-parallel-item:only-child::after {width: 0;}#sk-container-id-2 div.sk-dashed-wrapped {border: 1px dashed gray;margin: 0 0.4em 0.5em 0.4em;box-sizing: border-box;padding-bottom: 0.4em;background-color: white;}#sk-container-id-2 div.sk-label label {font-family: monospace;font-weight: bold;display: inline-block;line-height: 1.2em;}#sk-container-id-2 div.sk-label-container {text-align: center;}#sk-container-id-2 div.sk-container {/* jupyter's `normalize.less` sets `[hidden] { display: none; }` but bootstrap.min.css set `[hidden] { display: none !important; }` so we also need the `!important` here to be able to override the default hidden behavior on the sphinx rendered scikit-learn.org. See: https://github.com/scikit-learn/scikit-learn/issues/21755 */display: inline-block !important;position: relative;}#sk-container-id-2 div.sk-text-repr-fallback {display: none;}</style><div id=\"sk-container-id-2\" class=\"sk-top-container\"><div class=\"sk-text-repr-fallback\"><pre>GradientBoostingClassifier(learning_rate=1.0, max_depth=5, n_estimators=200,\n",
       "                           random_state=0)</pre><b>In a Jupyter environment, please rerun this cell to show the HTML representation or trust the notebook. <br />On GitHub, the HTML representation is unable to render, please try loading this page with nbviewer.org.</b></div><div class=\"sk-container\" hidden><div class=\"sk-item\"><div class=\"sk-estimator sk-toggleable\"><input class=\"sk-toggleable__control sk-hidden--visually\" id=\"sk-estimator-id-2\" type=\"checkbox\" checked><label for=\"sk-estimator-id-2\" class=\"sk-toggleable__label sk-toggleable__label-arrow\">GradientBoostingClassifier</label><div class=\"sk-toggleable__content\"><pre>GradientBoostingClassifier(learning_rate=1.0, max_depth=5, n_estimators=200,\n",
       "                           random_state=0)</pre></div></div></div></div></div>"
      ],
      "text/plain": [
       "GradientBoostingClassifier(learning_rate=1.0, max_depth=5, n_estimators=200,\n",
       "                           random_state=0)"
      ]
     },
     "execution_count": 11,
     "metadata": {},
     "output_type": "execute_result"
    }
   ],
   "source": [
    "trainingDataFeatureSet = trainingData[['postTextContainsNumber', 'postTextContainsNumberWord', 'postTextContainsCurrencyWord', 'postTextContainsCurrencySign', 'postTextAmountWords', 'postTextAmountLowerCase', 'postTextAmountUpperCase', 'postTextAmountLetters', 'postTextAmountCommas', 'postTextAmountExclMarks', 'postTextAmountDots', 'postTextAmountQuestionMarks', 'postTextAmountQuotationMarks', 'targetParagraphsContainNumber', 'targetParagraphsContainNumberWord', 'targetParagraphsContainCurrencyWord', 'targetParagraphsContainCurrencySign', 'targetParagraphsAmountWords', 'targetParagraphsAmountLowerCase', 'targetParagraphsAmountUpperCase', 'targetParagraphsAmountLetters', 'targetParagraphsAmountCommas', 'targetParagraphsAmountExclMarks', 'targetParagraphsAmountDots', 'targetParagraphsAmountQuestionMarks', 'targetParagraphsAmountQuotationMarks', 'targetParagraphsAreExplicitlyEnumerated', 'targetParagraphsContainRecipeWord']]\n",
    "trainingDataTarget = trainingData['spoilerType']\n",
    "clf = GradientBoostingClassifier(n_estimators=200, learning_rate=1.0, max_depth=5, random_state=0)\n",
    "clf.fit(trainingDataFeatureSet, trainingDataTarget)"
   ]
  },
  {
   "cell_type": "markdown",
   "id": "d3868a60",
   "metadata": {},
   "source": [
    "### load validation data and calculate feature"
   ]
  },
  {
   "cell_type": "code",
   "execution_count": 13,
   "id": "83dbed02",
   "metadata": {},
   "outputs": [],
   "source": [
    "validationData = pd.read_json('../data/validation.jsonl', lines=True)\n",
    "validationData['tags'] = validationData['tags'].apply(lambda v: v[0])\n",
    "validationData['spoilerType'] = validationData['tags'].apply(lambda r: 'multi' if r == 'multi' else 'non-multi')\n",
    "\n",
    "validationData['postText'] = validationData['postText'].apply(lambda p: p[0])\n",
    "validationData['postTextContainsNumber'] = validationData['postText'].apply(lambda p: 1 if has_number(p) == True else 0)\n",
    "validationData['postTextContainsNumberWord'] = validationData['postText'].apply(lambda p: 1 if has_number_word(p) == True else 0)\n",
    "validationData['postTextContainsCurrencyWord'] = validationData['postText'].apply(lambda p: 1 if has_currency_word(p) == True else 0)\n",
    "validationData['postTextContainsCurrencySign'] = validationData['postText'].apply(lambda p: 1 if has_currency_sign(p) == True else 0)\n",
    "validationData['postTextAmountWords'] = validationData['postText'].apply(lambda p: number_of_words(p))\n",
    "validationData['postTextAmountLowerCase'] = validationData['postText'].apply(lambda p: amount_lowercase(p))\n",
    "validationData['postTextAmountUpperCase'] = validationData['postText'].apply(lambda p: amount_uppercase(p))\n",
    "validationData['postTextAmountLetters'] = validationData['postText'].apply(lambda p: amount_letters(p))\n",
    "validationData['postTextAmountCommas'] = validationData['postText'].apply(lambda p: amount_commas(p))\n",
    "validationData['postTextAmountExclMarks'] = validationData['postText'].apply(lambda p: amount_exclamationmarks(p))\n",
    "validationData['postTextAmountDots'] = validationData['postText'].apply(lambda p: amount_dots(p))\n",
    "validationData['postTextAmountQuestionMarks'] = validationData['postText'].apply(lambda p: amount_questionmarks(p))\n",
    "validationData['postTextAmountQuotationMarks'] = validationData['postText'].apply(lambda p: amount_quotationmarks(p))\n",
    "\n",
    "validationData['targetParagraphsConcat'] = validationData['targetParagraphs'].apply(lambda p: \"\".join(p)) \n",
    "validationData['targetParagraphsContainNumber'] = validationData['targetParagraphsConcat'].apply(lambda p: 1 if has_number(p) == True else 0)\n",
    "validationData['targetParagraphsContainNumberWord'] = validationData['targetParagraphsConcat'].apply(lambda p: 1 if has_number_word(p) == True else 0)\n",
    "validationData['targetParagraphsContainCurrencyWord'] = validationData['targetParagraphsConcat'].apply(lambda p: 1 if has_currency_word(p) == True else 0)\n",
    "validationData['targetParagraphsContainCurrencySign'] = validationData['targetParagraphsConcat'].apply(lambda p: 1 if has_currency_sign(p) == True else 0)\n",
    "validationData['targetParagraphsAmountWords'] = validationData['targetParagraphsConcat'].apply(lambda p: number_of_words(p))\n",
    "validationData['targetParagraphsAmountLowerCase'] = validationData['targetParagraphsConcat'].apply(lambda p: amount_lowercase(p))\n",
    "validationData['targetParagraphsAmountUpperCase'] = validationData['targetParagraphsConcat'].apply(lambda p: amount_uppercase(p))\n",
    "validationData['targetParagraphsAmountLetters'] = validationData['targetParagraphsConcat'].apply(lambda p: amount_letters(p))\n",
    "validationData['targetParagraphsAmountCommas'] = validationData['targetParagraphsConcat'].apply(lambda p: amount_commas(p))\n",
    "validationData['targetParagraphsAmountExclMarks'] = validationData['targetParagraphsConcat'].apply(lambda p: amount_commas(p))\n",
    "validationData['targetParagraphsAmountDots'] = validationData['targetParagraphsConcat'].apply(lambda p: amount_dots(p))\n",
    "validationData['targetParagraphsAmountQuestionMarks'] = validationData['targetParagraphsConcat'].apply(lambda p: amount_questionmarks(p))\n",
    "validationData['targetParagraphsAmountQuotationMarks'] = validationData['targetParagraphsConcat'].apply(lambda p: amount_quotationmarks(p))\n",
    "validationData['targetParagraphsAreExplicitlyEnumerated'] = validationData['targetParagraphs'].apply(lambda p: 1 if contains_explicit_enumeration(p) == True else 0)\n",
    "validationData['targetParagraphsContainRecipeWord'] = validationData['targetParagraphsConcat'].apply(lambda p: 1 if contains_recipe_words(p) else 0)"
   ]
  },
  {
   "cell_type": "markdown",
   "id": "49638c0d",
   "metadata": {},
   "source": [
    "### filter dataframe to have necessary features for model training, prepare datasets"
   ]
  },
  {
   "cell_type": "code",
   "execution_count": 14,
   "id": "f7e34578",
   "metadata": {},
   "outputs": [],
   "source": [
    "validationDataFeatureSet = validationData[['postTextContainsNumber', 'postTextContainsNumberWord', 'postTextContainsCurrencyWord', 'postTextContainsCurrencySign', 'postTextAmountWords', 'postTextAmountLowerCase', 'postTextAmountUpperCase', 'postTextAmountLetters', 'postTextAmountCommas', 'postTextAmountExclMarks', 'postTextAmountDots', 'postTextAmountQuestionMarks', 'postTextAmountQuotationMarks', 'targetParagraphsContainNumber', 'targetParagraphsContainNumberWord', 'targetParagraphsContainCurrencyWord', 'targetParagraphsContainCurrencySign', 'targetParagraphsAmountWords', 'targetParagraphsAmountLowerCase', 'targetParagraphsAmountUpperCase', 'targetParagraphsAmountLetters', 'targetParagraphsAmountCommas', 'targetParagraphsAmountExclMarks', 'targetParagraphsAmountDots', 'targetParagraphsAmountQuestionMarks', 'targetParagraphsAmountQuotationMarks', 'targetParagraphsAreExplicitlyEnumerated', 'targetParagraphsContainRecipeWord']]\n",
    "predictedSpoilerTypesArray = clf.predict(validationDataFeatureSet)\n",
    "predictedSpoilerTypes = pd.DataFrame({'predicted': predictedSpoilerTypesArray})\n",
    "validationData['predicted'] = predictedSpoilerTypes"
   ]
  },
  {
   "cell_type": "markdown",
   "id": "ba923eaf",
   "metadata": {},
   "source": [
    "### calculate accuracy"
   ]
  },
  {
   "cell_type": "code",
   "execution_count": 15,
   "id": "ece18b91",
   "metadata": {},
   "outputs": [
    {
     "name": "stdout",
     "output_type": "stream",
     "text": [
      "Accuracy:  0.82875\n"
     ]
    }
   ],
   "source": [
    "correctly_predicted_rows = np.where(validationData['spoilerType'] == validationData['predicted'])\n",
    "true_positives = len(correctly_predicted_rows[0])\n",
    "acc = true_positives/len(validationData.index)\n",
    "print('Accuracy: ', acc)"
   ]
  },
  {
   "cell_type": "code",
   "execution_count": null,
   "id": "9f343490",
   "metadata": {},
   "outputs": [],
   "source": []
  }
 ],
 "metadata": {
  "kernelspec": {
   "display_name": "Python 3 (ipykernel)",
   "language": "python",
   "name": "python3"
  },
  "language_info": {
   "codemirror_mode": {
    "name": "ipython",
    "version": 3
   },
   "file_extension": ".py",
   "mimetype": "text/x-python",
   "name": "python",
   "nbconvert_exporter": "python",
   "pygments_lexer": "ipython3",
   "version": "3.10.6"
  }
 },
 "nbformat": 4,
 "nbformat_minor": 5
}
